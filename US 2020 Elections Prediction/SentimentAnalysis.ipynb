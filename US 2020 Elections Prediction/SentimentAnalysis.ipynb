{
 "cells": [
  {
   "cell_type": "markdown",
   "metadata": {},
   "source": [
    "# Sentiment Analysis"
   ]
  },
  {
   "cell_type": "markdown",
   "metadata": {},
   "source": [
    "In this notebook, we perform sentiment analysis using the Natural Language Toolkit Sentiment Analysis pretrained model Vader Lexicon.\n",
    "\n",
    "We will apply the model to our tweets and then compute for each user the total sentiment for the Democrat party. In case it is positive we will assign a vote to the Democrat party and we will add a vote to the Republican party otherwise."
   ]
  },
  {
   "cell_type": "markdown",
   "metadata": {},
   "source": [
    "## Imports and Reading data"
   ]
  },
  {
   "cell_type": "code",
   "execution_count": 1,
   "metadata": {},
   "outputs": [
    {
     "name": "stderr",
     "output_type": "stream",
     "text": [
      "[nltk_data] Downloading package vader_lexicon to\n",
      "[nltk_data]     C:\\Users\\pablo\\AppData\\Roaming\\nltk_data...\n",
      "[nltk_data]   Package vader_lexicon is already up-to-date!\n"
     ]
    },
    {
     "data": {
      "text/plain": [
       "True"
      ]
     },
     "execution_count": 1,
     "metadata": {},
     "output_type": "execute_result"
    }
   ],
   "source": [
    "import pandas as pd\n",
    "from nltk import classify\n",
    "from nltk import NaiveBayesClassifier\n",
    "import nltk\n",
    "from nltk.sentiment.vader import SentimentIntensityAnalyzer\n",
    "import pickle\n",
    "import numpy as np\n",
    "import matplotlib.pyplot as plt\n",
    "import seaborn as sns\n",
    "nltk.download('vader_lexicon')"
   ]
  },
  {
   "cell_type": "code",
   "execution_count": 2,
   "metadata": {},
   "outputs": [],
   "source": [
    "data = pd.read_csv('./datasets/final_dataset.csv')\n",
    "data.drop(columns=['Unnamed: 0'],inplace=True)\n",
    "data.dropna(inplace=True)"
   ]
  },
  {
   "cell_type": "markdown",
   "metadata": {},
   "source": [
    "## Sentiment Analysis"
   ]
  },
  {
   "cell_type": "code",
   "execution_count": 3,
   "metadata": {},
   "outputs": [],
   "source": [
    "# Applying Sentiment Analysis model\n",
    "sent_analyzer = SentimentIntensityAnalyzer()\n",
    "data['sentiment'] = data['text'].apply(lambda row: sent_analyzer.polarity_scores(row))"
   ]
  },
  {
   "cell_type": "code",
   "execution_count": 4,
   "metadata": {},
   "outputs": [],
   "source": [
    "# Returns 1 if positive sentiment,-1 if negative sentiment and 0 if close to 0 (neutral sentiment)\n",
    "def determine_sentiment(sentiment):\n",
    "    if sentiment['compound'] >= 0.05:\n",
    "        return 1\n",
    "    elif sentiment['compound'] <= -0.05:\n",
    "        return -1\n",
    "    else:\n",
    "        return 0"
   ]
  },
  {
   "cell_type": "code",
   "execution_count": 5,
   "metadata": {},
   "outputs": [],
   "source": [
    "data['sentiment'] = data['sentiment'].apply(lambda x: determine_sentiment(x))"
   ]
  },
  {
   "cell_type": "markdown",
   "metadata": {},
   "source": [
    "## Compute users political affinity"
   ]
  },
  {
   "cell_type": "code",
   "execution_count": 6,
   "metadata": {},
   "outputs": [],
   "source": [
    "# Compute sentiment by user, by adding sentiments of their tweets for the 2 different political parties\n",
    "grouped = data.groupby(['user_id','subject','state']).sentiment.sum().reset_index().set_index('user_id')\n",
    "\n",
    "# Removing indecise voters\n",
    "grouped = grouped[grouped.sentiment != 0]"
   ]
  },
  {
   "cell_type": "code",
   "execution_count": 7,
   "metadata": {},
   "outputs": [],
   "source": [
    "# Change sign of republican sentiments\n",
    "grouped['dem_sentiment'] = np.where(grouped.subject == 'Republicans', (-1)*grouped.sentiment, grouped.sentiment)\n",
    "\n",
    "# Computes the vote of each unique user\n",
    "votes = grouped.groupby(['user_id']).aggregate({'dem_sentiment': 'sum'}) > 0\n",
    "votes = votes.rename(columns={'dem_sentiment':'dem_vote'}) \n",
    "votes['state'] = grouped.groupby(['user_id'])['state'].first()"
   ]
  },
  {
   "cell_type": "code",
   "execution_count": 8,
   "metadata": {},
   "outputs": [],
   "source": [
    "# Dataframe storing total of votes by state \n",
    "votes_by_state = pd.DataFrame()\n",
    "votes_by_state['rep_votes'] = votes.value_counts()[0]\n",
    "votes_by_state['dem_votes'] = votes.value_counts()[1]"
   ]
  },
  {
   "cell_type": "code",
   "execution_count": 9,
   "metadata": {},
   "outputs": [],
   "source": [
    "# Save datasets to csv file\n",
    "votes_by_state.to_csv('./datasets/votes_per_state.csv')"
   ]
  },
  {
   "cell_type": "markdown",
   "metadata": {},
   "source": [
    "# Visualization"
   ]
  },
  {
   "cell_type": "code",
   "execution_count": 10,
   "metadata": {},
   "outputs": [
    {
     "data": {
      "image/png": "[encoded data removed]",
      "text/plain": [
       "<Figure size 720x504 with 1 Axes>"
      ]
     },
     "metadata": {
      "needs_background": "light"
     },
     "output_type": "display_data"
    }
   ],
   "source": [
    "plt.figure(figsize=(10,7))\n",
    "sns.set()\n",
    "splot = sns.countplot(x=\"sentiment\", data=data, hue='subject',palette=['#00BFFF','#FF4545'])\n",
    "\n",
    "for p in splot.patches:\n",
    "    splot.annotate(str(format(p.get_height(), '.0f'))[:-3]+'k', (p.get_x() + p.get_width() / 2., p.get_height() + 2000), ha = 'center', va= 'bottom', xytext = (0, 0), textcoords = 'offset points')\n",
    "\n",
    "locs, _ = plt.xticks()\n",
    "plt.xticks(ticks=locs,labels=['Negative','Neutral','Positive'])\n",
    "plt.xlabel('Sentiment')\n",
    "plt.ylabel('Count')\n",
    "plt.title('Distribution of sentiments by political party',fontsize=15)\n",
    "plt.legend(title='Political Parties')\n",
    "plt.show()"
   ]
  },
  {
   "cell_type": "markdown",
   "metadata": {},
   "source": [
    "Despite being imbalanced towards the republican party in number of tweets and since we will use the sentiment of the tweets to predict the results, we are not balancing the dataset as we will use sentiments (either negative or positive) to predict the elections results."
   ]
  },
  {
   "cell_type": "markdown",
   "metadata": {},
   "source": [
    "## Hashtags Preprocessing"
   ]
  },
  {
   "cell_type": "code",
   "execution_count": 11,
   "metadata": {},
   "outputs": [],
   "source": [
    "# mentions contains id, user and mentioned_user names\n",
    "hashtags = pd.read_csv('./datasets/Output_v3_hash.csv', quotechar='\"', names = ['id','user','hashtags']\n",
    "                       ,low_memory=False, skiprows=1)"
   ]
  },
  {
   "cell_type": "code",
   "execution_count": 12,
   "metadata": {},
   "outputs": [],
   "source": [
    "# Combining hashtags with our predicted sentiment \n",
    "hashtags = data[['id','subject','sentiment','state']].merge(hashtags,on='id')[['subject','sentiment','hashtags','state']]\n",
    "\n",
    "# Add variable to count number of tweets (Used in Tableau)\n",
    "hashtags['counter'] = 1"
   ]
  },
  {
   "cell_type": "code",
   "execution_count": 13,
   "metadata": {},
   "outputs": [],
   "source": [
    "# Compute total sentiment for each hashtag\n",
    "hashtags = hashtags.groupby(['subject','hashtags','state']).aggregate({'sentiment': 'sum','counter':'sum'}).reset_index()"
   ]
  },
  {
   "cell_type": "code",
   "execution_count": 14,
   "metadata": {},
   "outputs": [],
   "source": [
    "# Save datasets to csv file\n",
    "hashtags.to_csv('./datasets/hashtags.csv')"
   ]
  }
 ],
 "metadata": {
  "kernelspec": {
   "display_name": "Python 3",
   "language": "python",
   "name": "python3"
  },
  "language_info": {
   "codemirror_mode": {
    "name": "ipython",
    "version": 3
   },
   "file_extension": ".py",
   "mimetype": "text/x-python",
   "name": "python",
   "nbconvert_exporter": "python",
   "pygments_lexer": "ipython3",
   "version": "3.8.5"
  }
 },
 "nbformat": 4,
 "nbformat_minor": 4
}
