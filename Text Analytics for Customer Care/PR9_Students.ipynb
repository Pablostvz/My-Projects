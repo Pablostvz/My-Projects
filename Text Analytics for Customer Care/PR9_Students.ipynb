{
 "cells": [
  {
   "cell_type": "markdown",
   "metadata": {},
   "source": [
    "# Text Analytics for Customer Care\n",
    "\n",
    "\n",
    "\n",
    "## Context\n",
    "\n",
    "We work in the data science and AI department in a Ecommerce company. Our Customer Services Department takes a long time to process all the information they have and detect unsatisfied customers. Therefore, they asked for a platform that solves their problem: automate the data extraction, process the data and deliver the output in a dashboard that they can consume with the objective of being able to detect the unsatisfied customers, the main topics why they are unsatisfied, see the customer's history, and many other graphs that help them to improve the Customer Service.\n",
    "\n",
    "Goals:\n",
    "- Identify **leaknesses** in Customer services\n",
    "- Identify **unsatisfied customers**\n",
    "- Identify **potential issues** \n",
    "\n",
    "\n",
    "## Dataset\n",
    "\n",
    "We are working with a Kaggle dataset that is composed by two datasets: \n",
    "\n",
    "**Product Reviews**\n",
    "\n",
    "Contains the review done by a customer for a given product. Its fields are the following ones:\n",
    "\n",
    "- **ReviewTitle**: Title of the review\n",
    "- **ReviewBody**: Contains the review done by the customer\n",
    "- **ReviewStar**: How many stars the customer assigns to the product. From 0 to 5, where 0 is the worst value and 5 the best one.\n",
    "- **Product**: Product identifier\n",
    "\n",
    "**Product Info**\n",
    "\n",
    "Contains the info about a given product. Its fields are the following ones:\n",
    "\n",
    "- **MRP**: Unknown (non used)\n",
    "- **Price**: price of the product\n",
    "- **ProductFullName**: Full name of the product\n",
    "- **ProductShortName**: Short name of the product. This is the one that join the product with all reviews it has.\n",
    "- **ReviewURL**: URL to see the product description\n",
    "- **id**: Unique identifier of the product."
   ]
  },
  {
   "cell_type": "markdown",
   "metadata": {},
   "source": [
    "## Imports"
   ]
  },
  {
   "cell_type": "code",
   "execution_count": 1,
   "metadata": {},
   "outputs": [
    {
     "name": "stderr",
     "output_type": "stream",
     "text": [
      "[nltk_data] Downloading package punkt to\n",
      "[nltk_data]     C:\\Users\\pablo\\AppData\\Roaming\\nltk_data...\n",
      "[nltk_data]   Package punkt is already up-to-date!\n"
     ]
    },
    {
     "data": {
      "text/plain": [
       "True"
      ]
     },
     "execution_count": 1,
     "metadata": {},
     "output_type": "execute_result"
    }
   ],
   "source": [
    "import pandas as pd\n",
    "import seaborn as sns\n",
    "import os\n",
    "import numpy as np\n",
    "import matplotlib.pyplot as plt\n",
    "import nltk\n",
    "import string\n",
    "import unidecode\n",
    "import re\n",
    "\n",
    "import nltk.stem as stemmers\n",
    "from tensorflow.keras.preprocessing.text import Tokenizer\n",
    "from tensorflow.keras.preprocessing.sequence import pad_sequences\n",
    "from sklearn.model_selection import train_test_split\n",
    "from tensorflow.keras.models import Model\n",
    "from tensorflow.keras.layers import Dense, LSTM, Embedding, Input, Dropout, SpatialDropout1D\n",
    "\n",
    "\n",
    "# Set Pandas to show all the columns\n",
    "pd.set_option('display.max_columns', None)\n",
    "\n",
    "# Download stemmers\n",
    "nltk.download('punkt')"
   ]
  },
  {
   "cell_type": "markdown",
   "metadata": {
    "colab_type": "text",
    "id": "Ps7lkUkQJmuk"
   },
   "source": [
    "# **1. Data understanding and preparation**"
   ]
  },
  {
   "cell_type": "markdown",
   "metadata": {},
   "source": [
    "### **1.1 Read the data**"
   ]
  },
  {
   "cell_type": "code",
   "execution_count": 2,
   "metadata": {},
   "outputs": [],
   "source": [
    "# Define the parameters to read the data\n",
    "root_path = \"../datos\"\n",
    "info_file = \"ProductInfo.csv\"\n",
    "reviews_file = \"ProductReviews.csv\"\n",
    "sep = \",\"\n",
    "encoding = \"utf-8\"\n",
    "\n",
    "# Read the data\n",
    "info_df = pd.read_csv(filepath_or_buffer=os.path.abspath(os.path.join(root_path, info_file)), sep = sep, encoding = encoding)\n",
    "reviews_df = pd.read_csv(filepath_or_buffer=os.path.abspath(os.path.join(root_path, reviews_file)), sep = sep, encoding = encoding)"
   ]
  },
  {
   "cell_type": "code",
   "execution_count": 3,
   "metadata": {},
   "outputs": [
    {
     "data": {
      "text/html": [
       "<div>\n",
       "<style scoped>\n",
       "    .dataframe tbody tr th:only-of-type {\n",
       "        vertical-align: middle;\n",
       "    }\n",
       "\n",
       "    .dataframe tbody tr th {\n",
       "        vertical-align: top;\n",
       "    }\n",
       "\n",
       "    .dataframe thead th {\n",
       "        text-align: right;\n",
       "    }\n",
       "</style>\n",
       "<table border=\"1\" class=\"dataframe\">\n",
       "  <thead>\n",
       "    <tr style=\"text-align: right;\">\n",
       "      <th></th>\n",
       "      <th>MRP</th>\n",
       "      <th>Price</th>\n",
       "      <th>ProductFullName</th>\n",
       "      <th>ProductShortName</th>\n",
       "      <th>ReviewURL</th>\n",
       "      <th>id</th>\n",
       "    </tr>\n",
       "  </thead>\n",
       "  <tbody>\n",
       "    <tr>\n",
       "      <th>0</th>\n",
       "      <td>2990</td>\n",
       "      <td>1399</td>\n",
       "      <td>boAt Rockerz 255 Sports Bluetooth Wireless Ear...</td>\n",
       "      <td>boAt Rockerz 255</td>\n",
       "      <td>https://www.amazon.in/255-Bluetooth-Wireless-E...</td>\n",
       "      <td>1</td>\n",
       "    </tr>\n",
       "    <tr>\n",
       "      <th>1</th>\n",
       "      <td>3999</td>\n",
       "      <td>1099</td>\n",
       "      <td>Flybot Wave in-Ear Sport Wireless Bluetooth Ea...</td>\n",
       "      <td>Flybot Wave</td>\n",
       "      <td>https://www.amazon.in/Flybot-Wireless-Bluetoot...</td>\n",
       "      <td>2</td>\n",
       "    </tr>\n",
       "    <tr>\n",
       "      <th>2</th>\n",
       "      <td>3999</td>\n",
       "      <td>1099</td>\n",
       "      <td>Flybot Boom Deep Bass in-Ear Wireless Bluetoot...</td>\n",
       "      <td>Flybot Boom</td>\n",
       "      <td>https://www.amazon.in/Flybot-Wireless-Bluetoot...</td>\n",
       "      <td>3</td>\n",
       "    </tr>\n",
       "    <tr>\n",
       "      <th>3</th>\n",
       "      <td>2000</td>\n",
       "      <td>749</td>\n",
       "      <td>PTron Intunes Pro Headphone Magnetic Earphone ...</td>\n",
       "      <td>PTron Intunes</td>\n",
       "      <td>https://www.amazon.in/PTron-Intunes-Pro-Smartp...</td>\n",
       "      <td>4</td>\n",
       "    </tr>\n",
       "    <tr>\n",
       "      <th>4</th>\n",
       "      <td>5999</td>\n",
       "      <td>2999</td>\n",
       "      <td>Flybot Beat True Wireless Bluetooth Earphones ...</td>\n",
       "      <td>Flybot Beat</td>\n",
       "      <td>https://www.amazon.in/Flybot-Wireless-Bluetoot...</td>\n",
       "      <td>5</td>\n",
       "    </tr>\n",
       "  </tbody>\n",
       "</table>\n",
       "</div>"
      ],
      "text/plain": [
       "    MRP  Price                                    ProductFullName  \\\n",
       "0  2990   1399  boAt Rockerz 255 Sports Bluetooth Wireless Ear...   \n",
       "1  3999   1099  Flybot Wave in-Ear Sport Wireless Bluetooth Ea...   \n",
       "2  3999   1099  Flybot Boom Deep Bass in-Ear Wireless Bluetoot...   \n",
       "3  2000    749  PTron Intunes Pro Headphone Magnetic Earphone ...   \n",
       "4  5999   2999  Flybot Beat True Wireless Bluetooth Earphones ...   \n",
       "\n",
       "   ProductShortName                                          ReviewURL  id  \n",
       "0  boAt Rockerz 255  https://www.amazon.in/255-Bluetooth-Wireless-E...   1  \n",
       "1       Flybot Wave  https://www.amazon.in/Flybot-Wireless-Bluetoot...   2  \n",
       "2       Flybot Boom  https://www.amazon.in/Flybot-Wireless-Bluetoot...   3  \n",
       "3     PTron Intunes  https://www.amazon.in/PTron-Intunes-Pro-Smartp...   4  \n",
       "4       Flybot Beat  https://www.amazon.in/Flybot-Wireless-Bluetoot...   5  "
      ]
     },
     "execution_count": 3,
     "metadata": {},
     "output_type": "execute_result"
    }
   ],
   "source": [
    "info_df.head()"
   ]
  },
  {
   "cell_type": "code",
   "execution_count": 4,
   "metadata": {},
   "outputs": [
    {
     "data": {
      "text/html": [
       "<div>\n",
       "<style scoped>\n",
       "    .dataframe tbody tr th:only-of-type {\n",
       "        vertical-align: middle;\n",
       "    }\n",
       "\n",
       "    .dataframe tbody tr th {\n",
       "        vertical-align: top;\n",
       "    }\n",
       "\n",
       "    .dataframe thead th {\n",
       "        text-align: right;\n",
       "    }\n",
       "</style>\n",
       "<table border=\"1\" class=\"dataframe\">\n",
       "  <thead>\n",
       "    <tr style=\"text-align: right;\">\n",
       "      <th></th>\n",
       "      <th>ReviewTitle</th>\n",
       "      <th>ReviewBody</th>\n",
       "      <th>ReviewStar</th>\n",
       "      <th>Product</th>\n",
       "    </tr>\n",
       "  </thead>\n",
       "  <tbody>\n",
       "    <tr>\n",
       "      <th>0</th>\n",
       "      <td>Honest review of an edm music lover\\n</td>\n",
       "      <td>No doubt it has a great bass and to a great ex...</td>\n",
       "      <td>3</td>\n",
       "      <td>boAt Rockerz 255</td>\n",
       "    </tr>\n",
       "    <tr>\n",
       "      <th>1</th>\n",
       "      <td>Unreliable earphones with high cost\\n</td>\n",
       "      <td>This  earphones are unreliable, i bought it be...</td>\n",
       "      <td>1</td>\n",
       "      <td>boAt Rockerz 255</td>\n",
       "    </tr>\n",
       "    <tr>\n",
       "      <th>2</th>\n",
       "      <td>Really good and durable.\\n</td>\n",
       "      <td>i bought itfor 999,I purchased it second time,...</td>\n",
       "      <td>4</td>\n",
       "      <td>boAt Rockerz 255</td>\n",
       "    </tr>\n",
       "    <tr>\n",
       "      <th>3</th>\n",
       "      <td>stopped working in just 14 days\\n</td>\n",
       "      <td>Its sound quality is adorable. overall it was ...</td>\n",
       "      <td>1</td>\n",
       "      <td>boAt Rockerz 255</td>\n",
       "    </tr>\n",
       "    <tr>\n",
       "      <th>4</th>\n",
       "      <td>Just Awesome Wireless Headphone under 1000...😉\\n</td>\n",
       "      <td>Its Awesome... Good sound quality &amp; 8-9 hrs ba...</td>\n",
       "      <td>5</td>\n",
       "      <td>boAt Rockerz 255</td>\n",
       "    </tr>\n",
       "  </tbody>\n",
       "</table>\n",
       "</div>"
      ],
      "text/plain": [
       "                                        ReviewTitle  \\\n",
       "0             Honest review of an edm music lover\\n   \n",
       "1             Unreliable earphones with high cost\\n   \n",
       "2                        Really good and durable.\\n   \n",
       "3                 stopped working in just 14 days\\n   \n",
       "4  Just Awesome Wireless Headphone under 1000...😉\\n   \n",
       "\n",
       "                                          ReviewBody  ReviewStar  \\\n",
       "0  No doubt it has a great bass and to a great ex...           3   \n",
       "1  This  earphones are unreliable, i bought it be...           1   \n",
       "2  i bought itfor 999,I purchased it second time,...           4   \n",
       "3  Its sound quality is adorable. overall it was ...           1   \n",
       "4  Its Awesome... Good sound quality & 8-9 hrs ba...           5   \n",
       "\n",
       "            Product  \n",
       "0  boAt Rockerz 255  \n",
       "1  boAt Rockerz 255  \n",
       "2  boAt Rockerz 255  \n",
       "3  boAt Rockerz 255  \n",
       "4  boAt Rockerz 255  "
      ]
     },
     "execution_count": 4,
     "metadata": {},
     "output_type": "execute_result"
    }
   ],
   "source": [
    "reviews_df.head()"
   ]
  },
  {
   "cell_type": "code",
   "execution_count": 5,
   "metadata": {},
   "outputs": [],
   "source": [
    "# Renaming\n",
    "info_df = info_df.rename(columns={'ProductShortName': 'Product'})\n",
    "reviews_df = reviews_df.rename(columns={'ReviewBody': 'Text', 'ReviewStar': 'Star'})\n",
    "\n",
    "# Joining\n",
    "data = pd.merge(info_df, reviews_df, how='inner', on='Product')"
   ]
  },
  {
   "cell_type": "markdown",
   "metadata": {},
   "source": [
    "**Split the dataset into data to be used during the class and data to be used during report generation**"
   ]
  },
  {
   "cell_type": "code",
   "execution_count": 6,
   "metadata": {},
   "outputs": [],
   "source": [
    "# Keep the 10% for reporting\n",
    "data_report = data.sample(frac = 0.1)\n",
    "\n",
    "# The rest for class\n",
    "data = data.drop(index=data_report.index)"
   ]
  },
  {
   "cell_type": "markdown",
   "metadata": {},
   "source": [
    "### **1.2 Dataset Exploratory Data Analysis (EDA)**\n",
    "\n",
    "The EDA will be done twice: Firstly, without standardizing the text in order to define the cleaning processes we have to apply, and secondly standardizing the text so that we can extract real information from it. \n",
    "\n",
    "### **1.2.1 Defining cleaning process**"
   ]
  },
  {
   "cell_type": "code",
   "execution_count": 7,
   "metadata": {},
   "outputs": [
    {
     "name": "stdout",
     "output_type": "stream",
     "text": [
      "<class 'pandas.core.frame.DataFrame'>\n",
      "Int64Index: 12903 entries, 0 to 14336\n",
      "Data columns (total 9 columns):\n",
      " #   Column           Non-Null Count  Dtype \n",
      "---  ------           --------------  ----- \n",
      " 0   MRP              12903 non-null  int64 \n",
      " 1   Price            12903 non-null  int64 \n",
      " 2   ProductFullName  12903 non-null  object\n",
      " 3   Product          12903 non-null  object\n",
      " 4   ReviewURL        12903 non-null  object\n",
      " 5   id               12903 non-null  int64 \n",
      " 6   ReviewTitle      12903 non-null  object\n",
      " 7   Text             12903 non-null  object\n",
      " 8   Star             12903 non-null  int64 \n",
      "dtypes: int64(4), object(5)\n",
      "memory usage: 1008.0+ KB\n"
     ]
    }
   ],
   "source": [
    "# Check dtypes and nulls of each attribute\n",
    "data.info()"
   ]
  },
  {
   "cell_type": "markdown",
   "metadata": {},
   "source": [
    "The dataframe has 12903 rows and 9 columns. No atribute has null values according to info function."
   ]
  },
  {
   "cell_type": "markdown",
   "metadata": {
    "colab_type": "text",
    "id": "ac3WaGyAJmup"
   },
   "source": [
    "--------\n",
    "Aparently there is are no null values in any field, but in the column Text this assumption is fake. There are some records with only '\\n' values or emojis, so we must clean them. Text can contain some strange values like emojis or whitespace characters (\\s, \\n, \\t, \\r) that must be removed from text. "
   ]
  },
  {
   "cell_type": "code",
   "execution_count": 8,
   "metadata": {},
   "outputs": [],
   "source": [
    "from string import printable\n",
    "\n",
    "def detect_strange_characters(text_series):\n",
    "    strange_chars = []\n",
    "    for index,text in text_series.items():\n",
    "        if set(text).difference(printable):\n",
    "            for char in text:\n",
    "                if char not in printable:\n",
    "                    strange_chars.append(char)\n",
    "    return pd.Series(strange_chars)"
   ]
  },
  {
   "cell_type": "code",
   "execution_count": 9,
   "metadata": {},
   "outputs": [
    {
     "data": {
      "text/plain": [
       "array(['\\u200b', '😉', '’', '👈', '😌', '👂', '≠', '😇', '😀', '₹', '😊', '💪',\n",
       "       '\\xa0', '💛', '🙄', '😃', '🎶', '•', '👌', '🔋', '☺', '️', '🙏', '🌟', '😟',\n",
       "       '😐', '😔', '😭', '½', '‘', '✌', '👍', '😍', '📦', '👎', '🔊', '💯', '⭐',\n",
       "       '“', '”', '🌗', '🙂', '😅', '🏻', '👏', '😂', '🤟', '🏼', '😠', '💰', '🤗',\n",
       "       '😎', '😣', '🤣', '✨', '😆', '🤩', '🎨', '😁', '😄', '®', '💌', '✊', '🙋',\n",
       "       '\\u200d', '♂', '🎧', '😘', '❤', '🔥', '😖', '👉', '🙁', '☹', '🧐', '🖤',\n",
       "       '😒', '😕', '📞', '😡', 'स', 'ं', 'ग', 'ी', 'त', '।', '🎼', '🙈', '⚖',\n",
       "       '✓', '👿', '🤦', '…', '⚠', '🙌', '°', '–', '☆', '👆', '♥', '☮', '🤘',\n",
       "       '💀', '🖐', '🎈', '📮', '😑', '🤔', 'П', 'р', 'е', 'к', 'а', 'с', 'н',\n",
       "       'ы', 'у', 'ш', 'и', 'о', 'т', 'л', 'ч', 'й', 'з', 'в', 'г', 'б',\n",
       "       'М', 'ф', 'п', 'Н', 'х', 'ь', 'м', 'ç', 'ţ', '💷', '📱', '🚚', '😶',\n",
       "       '😤', '🖕', '😞'], dtype=object)"
      ]
     },
     "execution_count": 9,
     "metadata": {},
     "output_type": "execute_result"
    }
   ],
   "source": [
    "special_chars = detect_strange_characters(data.Text)\n",
    "special_chars.unique()"
   ]
  },
  {
   "cell_type": "code",
   "execution_count": 10,
   "metadata": {},
   "outputs": [],
   "source": [
    "def remove_accents(text):\n",
    "    if text:\n",
    "        return ' '.join([unidecode.unidecode(word) for word in text.split()])\n",
    "    # In case there is no text\n",
    "    return \"\"\n",
    "\n",
    "def remove_punctuation_marks(text):\n",
    "    if text:\n",
    "        return text.translate(str.maketrans(string.punctuation, ' '*len(string.punctuation)))\n",
    "    # In case there is no text\n",
    "    return \"\"\n",
    "\n",
    "def text_to_lower_case(text):\n",
    "    if text:\n",
    "        return text.lower()\n",
    "    # In case there is no text\n",
    "    return \"\"\n",
    "\n",
    "def remove_emojis(text):\n",
    "    if text:\n",
    "        return text.encode('ascii', 'ignore').decode('ascii')\n",
    "    # In case there is no text\n",
    "    return \"\"\n",
    "\n",
    "def remove_multiple_whitespaces(text):\n",
    "    if text:\n",
    "        return re.sub('\\s+',' ', text).strip()\n",
    "    # In case there is no text\n",
    "    return \"\"\n",
    "\n",
    "def remove_text_marks(text):\n",
    "    if text:\n",
    "        # Replace characters like it\\'s by its\n",
    "        text = text.replace('\\'','')\n",
    "        \n",
    "        # Replace *, ?, ... by spaces\n",
    "        text = re.sub(r'[^\\w]',' ', text)\n",
    "        \n",
    "        return text.strip()\n",
    "    # In case there is no text\n",
    "    return \"\"\n",
    "\n",
    "def split_text_and_numbers(text): \n",
    "    temp = ' '.join([' '.join(re.findall(r\"(\\w+?)(\\d+)\",word)[0]) if len(re.findall(r\"(\\w+?)(\\d+)\",word)) > 0 \n",
    "            else word for word in text.split()])\n",
    "    return temp\n",
    "\n",
    "def remove_alone_numbers(text):\n",
    "    if text:\n",
    "        return re.sub(r\"\\d\",\"\",text)   \n",
    "    # In case there is no text\n",
    "    return \"\"\n",
    "\n",
    "def clean_text(text):\n",
    "    # Apply the different functions in order to clean the text\n",
    "    text = text_to_lower_case(text)\n",
    "    text = remove_text_marks(text)\n",
    "    text = remove_punctuation_marks(text)\n",
    "    text = remove_accents(text)\n",
    "    text = remove_emojis(text)\n",
    "    text = split_text_and_numbers(text)\n",
    "    text = remove_alone_numbers(text)\n",
    "    text = remove_multiple_whitespaces(text)\n",
    "    \n",
    "    return text"
   ]
  },
  {
   "cell_type": "code",
   "execution_count": 11,
   "metadata": {},
   "outputs": [],
   "source": [
    "# Cleaning text\n",
    "data['Text_Clean'] = data.Text.apply(lambda text: clean_text(text))"
   ]
  },
  {
   "cell_type": "code",
   "execution_count": 12,
   "metadata": {},
   "outputs": [
    {
     "data": {
      "text/plain": [
       "array([['No doubt it has a great bass and to a great extent noise cancellation and decent sound clarity and mindblowing battery but the following dissapointed me though i tried a lot to adjust.1.Bluetooth range not more than 10m2. Pain in ear due the conical buds(can be removed)3. Wires are a bit long which makes it odd in front.4. No pouch provided.5. Worst part is very low quality and distoring mic. Other person keeps complaining about my voice.\\n',\n",
       "        'no doubt it has a great bass and to a great extent noise cancellation and decent sound clarity and mindblowing battery but the following dissapointed me though i tried a lot to adjust bluetooth range not more than pain in ear due the conical buds can be removed wires are a bit long which makes it odd in front no pouch provided worst part is very low quality and distoring mic other person keeps complaining about my voice']],\n",
       "      dtype=object)"
      ]
     },
     "execution_count": 12,
     "metadata": {},
     "output_type": "execute_result"
    }
   ],
   "source": [
    "# Check first row\n",
    "data[[\"Text\", \"Text_Clean\"]].head(1).values"
   ]
  },
  {
   "cell_type": "markdown",
   "metadata": {},
   "source": [
    "### **1.2.2 EDA in text**\n",
    "\n",
    "Once text is cleaned we can apply the EDA to it. \n",
    "\n",
    "#### **1.2.2.1 Converting to nltk.Text** \n",
    "\n",
    "In order to be able to take the most of NLTK power, we must firstly convert the text into nltk.Text objects. In order to do this, nltk needs to receive a list of tokens."
   ]
  },
  {
   "cell_type": "code",
   "execution_count": 13,
   "metadata": {},
   "outputs": [],
   "source": [
    "def convert_to_nltk_text(data, text_field):\n",
    "    # List that will store tokens\n",
    "    tokens = []\n",
    "    \n",
    "    # Fill up the tokens list with the text comming from data[text_field] \n",
    "    for text in data[text_field]:\n",
    "        tokens.extend(text.split())\n",
    "        \n",
    "    # Return nltk.Text object\n",
    "    return nltk.Text(tokens)"
   ]
  },
  {
   "cell_type": "code",
   "execution_count": 14,
   "metadata": {},
   "outputs": [],
   "source": [
    "# Get the nltk.Text object\n",
    "nltk_text = convert_to_nltk_text(data, \"Text_Clean\")"
   ]
  },
  {
   "cell_type": "markdown",
   "metadata": {},
   "source": [
    "#### **1.2.2.2 Frequency distributions** \n",
    "\n",
    "We can obtain the frequency of each vocabulary item in the text. This is really useful when trying to detect the main topics why customers are unsatisfied."
   ]
  },
  {
   "cell_type": "code",
   "execution_count": 15,
   "metadata": {
    "jupyter": {
     "outputs_hidden": false
    }
   },
   "outputs": [],
   "source": [
    "# Get the dictionary with frequencies\n",
    "freq_dist = nltk.FreqDist(nltk_text)"
   ]
  },
  {
   "cell_type": "markdown",
   "metadata": {},
   "source": [
    "We can then plot the frequency of the words not cumulatively."
   ]
  },
  {
   "cell_type": "code",
   "execution_count": 16,
   "metadata": {
    "jupyter": {
     "outputs_hidden": false
    }
   },
   "outputs": [
    {
     "data": {
      "image/png": "[encoded data removed]",
      "text/plain": [
       "<Figure size 1152x720 with 1 Axes>"
      ]
     },
     "metadata": {
      "needs_background": "light"
     },
     "output_type": "display_data"
    }
   ],
   "source": [
    "plt.figure(figsize = (16, 10))\n",
    "freq_dist.plot(50)\n",
    "plt.show()"
   ]
  },
  {
   "cell_type": "markdown",
   "metadata": {},
   "source": [
    "The most common words (is,the and...) are usually stopwords and therefore meaningless. However, other common words are relevant, such as quality, sound or good. Also the verb to be appears in many different forms like is, are, was..."
   ]
  },
  {
   "cell_type": "markdown",
   "metadata": {},
   "source": [
    "#### **1.2.2.3 Standardizing the text**\n",
    "\n",
    "Once the EDA is performed, we must standardize the text, by removing the stop words (meaningless words, such us determinants and pronouns) and lemmatizing."
   ]
  },
  {
   "cell_type": "code",
   "execution_count": 17,
   "metadata": {},
   "outputs": [],
   "source": [
    "from nltk.stem import PorterStemmer \n",
    "\n",
    "def get_tokens(text):\n",
    "    # Get the tokens\n",
    "    if isinstance(text, nltk.Text):\n",
    "        tokens = text.tokens\n",
    "    else:\n",
    "        tokens = text.split(\" \")\n",
    "        \n",
    "    return tokens\n",
    "\n",
    "def remove_stopwords(text, language):\n",
    "    # Import stopwords\n",
    "    from nltk.corpus import stopwords\n",
    "    \n",
    "    # Get stop words for the given language\n",
    "    stopwords_list = stopwords.words(language)\n",
    "    \n",
    "    # Removing not from stopwords_list as it is a very informative word when doing sentiment analysis\n",
    "    stopwords_list.remove('not')\n",
    "    \n",
    "    # Get the tokens\n",
    "    tokens = get_tokens(text)\n",
    "        \n",
    "    # Remove the words from the text \n",
    "    cleaned_text = [w for w in tokens if not w in stopwords_list]\n",
    "    \n",
    "    # Return cleaned text\n",
    "    if isinstance(text, nltk.Text):\n",
    "        output = nltk.Text(cleaned_text)\n",
    "    else:\n",
    "        output = \" \".join(cleaned_text)\n",
    "    \n",
    "    return output\n",
    "\n",
    "def stem_text(text, language):\n",
    "    # Create the stemmer \n",
    "    stemmer = PorterStemmer()\n",
    "    \n",
    "    # Get the tokens\n",
    "    tokens = get_tokens(text)\n",
    "    \n",
    "    # Stem each token in text object\n",
    "    stemmas = [stemmer.stem(w) for w in tokens]\n",
    "    \n",
    "    # Return stemmed text\n",
    "    if isinstance(text, nltk.Text):\n",
    "        output = nltk.Text(stemmas)\n",
    "    else:\n",
    "        output = \" \".join(stemmas)\n",
    "    \n",
    "    return output\n",
    "\n",
    "def standardize_text(text,language):\n",
    "    # Remove the stop words\n",
    "    standardized_text = remove_stopwords(text, language)\n",
    "\n",
    "    # Stem the text\n",
    "    standardized_text = stem_text(standardized_text, language)\n",
    "    \n",
    "    # Return\n",
    "    return standardized_text"
   ]
  },
  {
   "cell_type": "code",
   "execution_count": 18,
   "metadata": {},
   "outputs": [],
   "source": [
    "# Standardize text\n",
    "standardized_nltk_text = standardize_text(nltk_text, \"english\")\n",
    "data['Standardized_Text'] = data.Text_Clean.apply(lambda text: standardize_text(text, \"english\"))"
   ]
  },
  {
   "cell_type": "code",
   "execution_count": 19,
   "metadata": {},
   "outputs": [
    {
     "data": {
      "text/plain": [
       "array([['no doubt it has a great bass and to a great extent noise cancellation and decent sound clarity and mindblowing battery but the following dissapointed me though i tried a lot to adjust bluetooth range not more than pain in ear due the conical buds can be removed wires are a bit long which makes it odd in front no pouch provided worst part is very low quality and distoring mic other person keeps complaining about my voice',\n",
       "        'doubt great bass great extent nois cancel decent sound clariti mindblow batteri follow dissapoint though tri lot adjust bluetooth rang not pain ear due conic bud remov wire bit long make odd front pouch provid worst part low qualiti distor mic person keep complain voic']],\n",
       "      dtype=object)"
      ]
     },
     "execution_count": 19,
     "metadata": {},
     "output_type": "execute_result"
    }
   ],
   "source": [
    "# Check first row\n",
    "data[[\"Text_Clean\", \"Standardized_Text\"]].head(1).values"
   ]
  },
  {
   "cell_type": "markdown",
   "metadata": {},
   "source": [
    "We can then plot again not cumulatively the frequency of the words."
   ]
  },
  {
   "cell_type": "code",
   "execution_count": 20,
   "metadata": {},
   "outputs": [
    {
     "data": {
      "image/png": "[encoded data removed]",
      "text/plain": [
       "<Figure size 1152x720 with 1 Axes>"
      ]
     },
     "metadata": {
      "needs_background": "light"
     },
     "output_type": "display_data"
    }
   ],
   "source": [
    "plt.figure(figsize = (16, 10))\n",
    "nltk.FreqDist(standardized_nltk_text).plot(50)\n",
    "plt.show()"
   ]
  },
  {
   "cell_type": "markdown",
   "metadata": {},
   "source": [
    "Now, there are no meaningless words. The most common words indicate why people is satisfied or unsatisfied with the product"
   ]
  },
  {
   "cell_type": "markdown",
   "metadata": {},
   "source": [
    "### **1.2.3 Relating stars with sentiment**\n",
    "\n",
    "In order to build up the sentimental analysis model, we need to transform *star* values into sentiments. To do this, we will match them as follows:\n",
    "\n",
    "- **Bad sentiment**: stars 1 and 2 --> bad\n",
    "- **Intermediate sentiment**: star 3 --> neutral\n",
    "- **Good sentiment**: stars 4 and 5 --> good"
   ]
  },
  {
   "cell_type": "code",
   "execution_count": 21,
   "metadata": {},
   "outputs": [],
   "source": [
    "def star_sentiment_matching(value):\n",
    "    if value <= 2:\n",
    "        return 'Bad'\n",
    "    elif value == 3:\n",
    "        return 'Neutral'\n",
    "    else:\n",
    "        return 'Good'"
   ]
  },
  {
   "cell_type": "code",
   "execution_count": 22,
   "metadata": {},
   "outputs": [],
   "source": [
    "# Match the sentiment value\n",
    "data['Sentiment'] = data.Star.apply(lambda value: star_sentiment_matching(value))\n",
    "\n",
    "# Remove the star field\n",
    "data = data.drop(columns = [\"Star\"])"
   ]
  },
  {
   "cell_type": "code",
   "execution_count": 23,
   "metadata": {},
   "outputs": [
    {
     "data": {
      "text/plain": [
       "Good       8475\n",
       "Bad        3069\n",
       "Neutral    1359\n",
       "Name: Sentiment, dtype: int64"
      ]
     },
     "execution_count": 23,
     "metadata": {},
     "output_type": "execute_result"
    }
   ],
   "source": [
    "data.Sentiment.value_counts()"
   ]
  },
  {
   "cell_type": "markdown",
   "metadata": {},
   "source": [
    "### **1.2.4 Checking dataset imbalance**\n",
    "\n",
    "Plotting the number of comments per sentiment to determine if the dataset is balanced or not."
   ]
  },
  {
   "cell_type": "code",
   "execution_count": 24,
   "metadata": {},
   "outputs": [
    {
     "data": {
      "image/png": "[encoded data removed]",
      "text/plain": [
       "<Figure size 504x504 with 1 Axes>"
      ]
     },
     "metadata": {},
     "output_type": "display_data"
    }
   ],
   "source": [
    "sns.set()\n",
    "plt.figure(figsize=(7,7))\n",
    "\n",
    "splot = sns.countplot(x=\"Sentiment\", data=data,linewidth=1.5,edgecolor=sns.color_palette(\"dark\", 3),alpha=0.75,order=['Neutral','Bad','Good',])\n",
    "\n",
    "for p in splot.patches:\n",
    "    splot.annotate(format(p.get_height(), '.0f'), (p.get_x() + p.get_width() / 2., p.get_height() + 10), ha = 'center', va= 'bottom', xytext = (0, 0), textcoords = 'offset points')\n",
    "\n",
    "plt.ylabel('Count')\n",
    "plt.title('Sentiment Countplot', size=15, pad=10)\n",
    "plt.show()"
   ]
  },
  {
   "cell_type": "markdown",
   "metadata": {},
   "source": [
    "The dataset is pretty imbalanced towards the Good sentiment."
   ]
  },
  {
   "cell_type": "markdown",
   "metadata": {
    "colab_type": "text",
    "id": "3n68_K_lJmvB"
   },
   "source": [
    "# **2. Building the sentimental analysis model**"
   ]
  },
  {
   "cell_type": "markdown",
   "metadata": {
    "colab_type": "text",
    "id": "Y3CQ_oEBJmvC"
   },
   "source": [
    "The objective of this model is to be able to predict if a given customer is disgusted with our product, and in that case, be able to track its evolution and apply any business rule in order to avoid the churner ratio to increase.\n",
    "\n",
    "The model I decided to develop is based on LSTMs. It will take as input a given text and will output the sentiment related to it. "
   ]
  },
  {
   "cell_type": "markdown",
   "metadata": {},
   "source": [
    "### 2.1. Balancing the dataset \n",
    "\n",
    "The function *balance_dataset* will balance (or not) the dataset by keeping the same amount of data per class."
   ]
  },
  {
   "cell_type": "code",
   "execution_count": 25,
   "metadata": {},
   "outputs": [],
   "source": [
    "def balance_dataset(dataset: pd.DataFrame,\n",
    "                    sample_number: int,\n",
    "                    balance: bool = False,\n",
    "                    replace: bool = False):\n",
    "    \"\"\"\n",
    "    The function returns a balanced version of the provided dataset according to the input parameters.\n",
    "    \n",
    "    Parameters:\n",
    "        - dataset: dataset to be balanced\n",
    "        - balance: flag that determines if the dataset must be balanced or not.\n",
    "        - replace: flag that determines if random samples must be replaced when balancing\n",
    "    \"\"\"\n",
    "    if balance:\n",
    "        return data.groupby('Sentiment').apply(lambda x: x.sample(sample_number,replace = replace) \n",
    "                                               if len(x) >= sample_number else x.sample(sample_number,replace = True)\n",
    "                                              ).reset_index(drop=True)\n",
    "    \n",
    "    return dataset   "
   ]
  },
  {
   "cell_type": "code",
   "execution_count": 26,
   "metadata": {},
   "outputs": [],
   "source": [
    "sample_number = 3000\n",
    "balance = True\n",
    "replace = True\n",
    "\n",
    "# Balance with replacement\n",
    "training = balance_dataset(dataset = data,\n",
    "                           sample_number = sample_number,\n",
    "                           balance = balance,\n",
    "                           replace = replace)"
   ]
  },
  {
   "cell_type": "markdown",
   "metadata": {},
   "source": [
    "### 2.2. Converting text into numeric values\n",
    "\n",
    "LSTMs require the input to be numerical. Therefore, we need to map our text into numerical values, and for this purpose we will tokenize the text and pad it."
   ]
  },
  {
   "cell_type": "markdown",
   "metadata": {},
   "source": [
    "In order to establish how many words should we keep, we will plot the distribution and box plot of the text length."
   ]
  },
  {
   "cell_type": "code",
   "execution_count": 27,
   "metadata": {},
   "outputs": [],
   "source": [
    "def plot_text_length_distribution(dataset: pd.DataFrame,text_field: str):\n",
    "    # Compute the vocabulary size for the given text field\n",
    "    vocabulary_size = len(set(dataset[text_field].values))\n",
    "    print(\"\\nThe vocabulary is composed by {0} words.\\n\".format(vocabulary_size))\n",
    "    \n",
    "    # Compute the lengths\n",
    "    lengths = dataset[text_field].apply(lambda x: len(x.split())).value_counts()\n",
    "    \n",
    "    # Build the figures\n",
    "    plt.figure(figsize = (16, 10))\n",
    "    plt.subplot(211)\n",
    "    \n",
    "    # Plot the distribution\n",
    "    plt.bar(x = lengths.keys(),height = lengths.values, color = 'blue')\n",
    "    \n",
    "    # Assign the title\n",
    "    plt.title(\"Distribution of the sentences lenght\")\n",
    "    plt.xlabel(\"Sentence Length\")\n",
    "    plt.ylabel(\"Number of sentences\")\n",
    "\n",
    "    # Set the second plot\n",
    "    plt.subplot(212)\n",
    "    \n",
    "    # Plot the box plot\n",
    "    plt.boxplot(x = lengths.keys(), showmeans=True)\n",
    "    \n",
    "    plt.suptitle('Lenght of words in %s column' % (text_field))\n",
    "    \n",
    "    # Show\n",
    "    plt.show()"
   ]
  },
  {
   "cell_type": "code",
   "execution_count": 28,
   "metadata": {},
   "outputs": [
    {
     "name": "stdout",
     "output_type": "stream",
     "text": [
      "\n",
      "The vocabulary is composed by 5170 words.\n",
      "\n"
     ]
    },
    {
     "data": {
      "image/png": "[encoded data removed]",
      "text/plain": [
       "<Figure size 1152x720 with 2 Axes>"
      ]
     },
     "metadata": {},
     "output_type": "display_data"
    }
   ],
   "source": [
    "sns.set()\n",
    "\n",
    "# Define the text field to be used\n",
    "text_field = \"Standardized_Text\"\n",
    "\n",
    "plot_text_length_distribution(dataset = training,\n",
    "                              text_field = text_field)"
   ]
  },
  {
   "cell_type": "markdown",
   "metadata": {},
   "source": [
    "Vocabulary is composed by 5100 words and the mean sentence lenght is around 50 words. I have decided to choose 1000 as the maximum number of words to keep as it is more or less 20% of the vocabulary size."
   ]
  },
  {
   "cell_type": "code",
   "execution_count": 29,
   "metadata": {},
   "outputs": [],
   "source": [
    "max_num_words = 1000"
   ]
  },
  {
   "cell_type": "markdown",
   "metadata": {},
   "source": [
    "Convert text into numerical values using Tokenizer and pad_sequences."
   ]
  },
  {
   "cell_type": "code",
   "execution_count": 30,
   "metadata": {},
   "outputs": [],
   "source": [
    "def map_text_into_numerical_values(dataset: pd.DataFrame,\n",
    "                                   text_field: str,\n",
    "                                   max_num_words: int,\n",
    "                                   print_info: bool = True,\n",
    "                                   tokenizer_dict = {}):\n",
    "    # Tokenize the text\n",
    "    if tokenizer_dict.get(\"tokenizer\") is None:\n",
    "        tokenizer = Tokenizer(num_words = max_num_words, split = \" \")\n",
    "        tokenizer.fit_on_texts(dataset[text_field].values)\n",
    "        tokenizer_dict['tokenizer'] = tokenizer\n",
    "    else:\n",
    "        tokenizer = tokenizer_dict.get(\"tokenizer\")\n",
    "    tokens = tokenizer.texts_to_sequences(dataset[text_field].values)\n",
    "    \n",
    "    # Padd the values in order to get the same length\n",
    "    padded_tokens = pad_sequences(tokens, maxlen = tokenizer_dict.get(\"max_pad_sequence_length\"))\n",
    "    if tokenizer_dict.get(\"max_pad_sequence_length\") is None:\n",
    "        tokenizer_dict[\"max_pad_sequence_length\"] = len(padded_tokens[0])\n",
    "        \n",
    "    # Print some information\n",
    "    if print_info:\n",
    "        for index in range(0, 3):\n",
    "            print(\"\\n- Original token length: {} \\n- Padded token length: {} \\n- Text: {} \\n- Tokenized text: {} \\n- Padded tokenized text: {}\".format(len(tokens[index]), \n",
    "                                                                                                                                                       len(padded_tokens[index]),\n",
    "                                                                                                                                                       dataset[text_field].values[index], \n",
    "                                                                                                                                                       tokens[index],\n",
    "                                                                                                                                                       padded_tokens[index]))\n",
    "\n",
    "    return tokens, padded_tokens, tokenizer_dict"
   ]
  },
  {
   "cell_type": "code",
   "execution_count": 31,
   "metadata": {},
   "outputs": [
    {
     "name": "stdout",
     "output_type": "stream",
     "text": [
      "\n",
      "- Original token length: 22 \n",
      "- Padded token length: 162 \n",
      "- Text: pro sound qualitycon u plugin mm slot u forc make minor minut adjust mic speaker work sometim bend wire near pin hear voicemi anoth friend bought experi samepremium price \n",
      "- Tokenized text: [177, 3, 74, 443, 74, 936, 138, 296, 278, 34, 165, 7, 114, 24, 416, 666, 82, 302, 409, 57, 135, 14] \n",
      "- Padded tokenized text: [  0   0   0   0   0   0   0   0   0   0   0   0   0   0   0   0   0   0\n",
      "   0   0   0   0   0   0   0   0   0   0   0   0   0   0   0   0   0   0\n",
      "   0   0   0   0   0   0   0   0   0   0   0   0   0   0   0   0   0   0\n",
      "   0   0   0   0   0   0   0   0   0   0   0   0   0   0   0   0   0   0\n",
      "   0   0   0   0   0   0   0   0   0   0   0   0   0   0   0   0   0   0\n",
      "   0   0   0   0   0   0   0   0   0   0   0   0   0   0   0   0   0   0\n",
      "   0   0   0   0   0   0   0   0   0   0   0   0   0   0   0   0   0   0\n",
      "   0   0   0   0   0   0   0   0   0   0   0   0   0   0 177   3  74 443\n",
      "  74 936 138 296 278  34 165   7 114  24 416 666  82 302 409  57 135  14]\n",
      "\n",
      "- Original token length: 5 \n",
      "- Padded token length: 162 \n",
      "- Text: sound qualiti poor compar price \n",
      "- Tokenized text: [3, 4, 40, 105, 14] \n",
      "- Padded tokenized text: [  0   0   0   0   0   0   0   0   0   0   0   0   0   0   0   0   0   0\n",
      "   0   0   0   0   0   0   0   0   0   0   0   0   0   0   0   0   0   0\n",
      "   0   0   0   0   0   0   0   0   0   0   0   0   0   0   0   0   0   0\n",
      "   0   0   0   0   0   0   0   0   0   0   0   0   0   0   0   0   0   0\n",
      "   0   0   0   0   0   0   0   0   0   0   0   0   0   0   0   0   0   0\n",
      "   0   0   0   0   0   0   0   0   0   0   0   0   0   0   0   0   0   0\n",
      "   0   0   0   0   0   0   0   0   0   0   0   0   0   0   0   0   0   0\n",
      "   0   0   0   0   0   0   0   0   0   0   0   0   0   0   0   0   0   0\n",
      "   0   0   0   0   0   0   0   0   0   0   0   0   0   3   4  40 105  14]\n",
      "\n",
      "- Original token length: 3 \n",
      "- Padded token length: 162 \n",
      "- Text: speaker damag day \n",
      "- Tokenized text: [165, 143, 31] \n",
      "- Padded tokenized text: [  0   0   0   0   0   0   0   0   0   0   0   0   0   0   0   0   0   0\n",
      "   0   0   0   0   0   0   0   0   0   0   0   0   0   0   0   0   0   0\n",
      "   0   0   0   0   0   0   0   0   0   0   0   0   0   0   0   0   0   0\n",
      "   0   0   0   0   0   0   0   0   0   0   0   0   0   0   0   0   0   0\n",
      "   0   0   0   0   0   0   0   0   0   0   0   0   0   0   0   0   0   0\n",
      "   0   0   0   0   0   0   0   0   0   0   0   0   0   0   0   0   0   0\n",
      "   0   0   0   0   0   0   0   0   0   0   0   0   0   0   0   0   0   0\n",
      "   0   0   0   0   0   0   0   0   0   0   0   0   0   0   0   0   0   0\n",
      "   0   0   0   0   0   0   0   0   0   0   0   0   0   0   0 165 143  31]\n"
     ]
    }
   ],
   "source": [
    "tokens, padded_tokens, tokenizer_dict = map_text_into_numerical_values(dataset = training,\n",
    "                                                       text_field = text_field,\n",
    "                                                       max_num_words = max_num_words)"
   ]
  },
  {
   "cell_type": "markdown",
   "metadata": {},
   "source": [
    "<br>\n",
    "\n",
    "Applying one-hot encoding to sentiment values. "
   ]
  },
  {
   "cell_type": "code",
   "execution_count": 32,
   "metadata": {},
   "outputs": [],
   "source": [
    "def map_labels_to_onehot(dataset: pd.DataFrame,\n",
    "                         label_field: str):\n",
    "    \n",
    "    # Return the labels encoded as one-hot\n",
    "    return pd.get_dummies(dataset[label_field]).values"
   ]
  },
  {
   "cell_type": "code",
   "execution_count": 33,
   "metadata": {},
   "outputs": [],
   "source": [
    "labels = map_labels_to_onehot(dataset = training, label_field = \"Sentiment\")"
   ]
  },
  {
   "cell_type": "markdown",
   "metadata": {},
   "source": [
    "### 2.3. Splitting into training, validation and test datasets\n",
    "\n",
    "We have already defined the feature values (*padded_tokens*) and the target ones (*labels*). The next step is to split them into training, validation and test datasets in order to be able to train and validate the model."
   ]
  },
  {
   "cell_type": "code",
   "execution_count": 34,
   "metadata": {},
   "outputs": [],
   "source": [
    "def split_datasets(x, y, train_percentage = 0.9, validation_precentage = 0.5):\n",
    "    # Get training dataset\n",
    "    X_testval, X_train, y_testval, y_train = train_test_split(x, y, test_size = train_percentage)\n",
    "    \n",
    "    # Get test and validation datasets\n",
    "    X_val, X_test, y_val, y_test = train_test_split(X_testval, y_testval, test_size = validation_precentage)\n",
    "    \n",
    "    return X_train, X_val, X_test, y_train, y_val, y_test"
   ]
  },
  {
   "cell_type": "code",
   "execution_count": 35,
   "metadata": {},
   "outputs": [],
   "source": [
    "X_train, X_val, X_test, y_train, y_val, y_test = split_datasets(x = padded_tokens, y = labels)"
   ]
  },
  {
   "cell_type": "markdown",
   "metadata": {},
   "source": [
    "# 3. Build up the model\n",
    "\n"
   ]
  },
  {
   "cell_type": "markdown",
   "metadata": {},
   "source": [
    "Build and train the model"
   ]
  },
  {
   "cell_type": "code",
   "execution_count": 36,
   "metadata": {},
   "outputs": [],
   "source": [
    "def build_model(**params):\n",
    "    # Build up the LSTM model\n",
    "    num_classes = labels.shape[1]\n",
    "    max_sentence_len = padded_tokens.shape[1]\n",
    "    vocabulary_size = max_num_words\n",
    "    \n",
    "    embed_output_size = 128\n",
    "    lstm_input_size = 196\n",
    "    \n",
    "    model_input = Input(shape = (max_sentence_len, ))\n",
    "    \n",
    "    embed_layer = Embedding(input_dim = vocabulary_size, output_dim = embed_output_size)\n",
    "    embed_out = embed_layer(model_input)\n",
    "    \n",
    "    dropout_layer = SpatialDropout1D(0.2)\n",
    "    dropout_out = dropout_layer(embed_out)\n",
    "    \n",
    "    lstm_layer = LSTM(lstm_input_size)\n",
    "    lstm_output = lstm_layer(dropout_out)\n",
    "    \n",
    "    dense_layer = Dense(num_classes, activation='softmax')\n",
    "    model_output = dense_layer(lstm_output)\n",
    "    \n",
    "    model = Model(inputs = [model_input], outputs = [model_output])\n",
    "    model.compile(optimizer = 'Adam', loss = 'CategoricalCrossentropy', metrics =['AUC','accuracy'])\n",
    "    model.summary()\n",
    "    \n",
    "    return model\n",
    "\n",
    "def train_model(model, **params):\n",
    "    # Train the model\n",
    "    model.fit(x = X_train, y = y_train, epochs = epochs ,batch_size = batch_size, validation_data = (X_val,y_val))\n",
    "    \n",
    "    return model"
   ]
  },
  {
   "cell_type": "code",
   "execution_count": 37,
   "metadata": {},
   "outputs": [
    {
     "name": "stdout",
     "output_type": "stream",
     "text": [
      "Model: \"functional_1\"\n",
      "_________________________________________________________________\n",
      "Layer (type)                 Output Shape              Param #   \n",
      "=================================================================\n",
      "input_1 (InputLayer)         [(None, 162)]             0         \n",
      "_________________________________________________________________\n",
      "embedding (Embedding)        (None, 162, 128)          128000    \n",
      "_________________________________________________________________\n",
      "spatial_dropout1d (SpatialDr (None, 162, 128)          0         \n",
      "_________________________________________________________________\n",
      "lstm (LSTM)                  (None, 196)               254800    \n",
      "_________________________________________________________________\n",
      "dense (Dense)                (None, 3)                 591       \n",
      "=================================================================\n",
      "Total params: 383,391\n",
      "Trainable params: 383,391\n",
      "Non-trainable params: 0\n",
      "_________________________________________________________________\n",
      "Epoch 1/3\n",
      "507/507 [==============================] - 45s 89ms/step - loss: 0.8515 - auc: 0.8078 - accuracy: 0.6244 - val_loss: 0.6655 - val_auc: 0.8797 - val_accuracy: 0.7244\n",
      "Epoch 2/3\n",
      "507/507 [==============================] - 45s 89ms/step - loss: 0.6044 - auc: 0.9012 - accuracy: 0.7533 - val_loss: 0.6187 - val_auc: 0.8983 - val_accuracy: 0.7533\n",
      "Epoch 3/3\n",
      "507/507 [==============================] - 49s 96ms/step - loss: 0.5218 - auc: 0.9265 - accuracy: 0.7905 - val_loss: 0.6086 - val_auc: 0.9020 - val_accuracy: 0.7644\n"
     ]
    }
   ],
   "source": [
    "# Build the model\n",
    "model = build_model(padded_tokens = padded_tokens, labels = labels, max_num_words = max_num_words)\n",
    "\n",
    "epochs = 3\n",
    "batch_size = 16\n",
    "\n",
    "# Train the model\n",
    "model = train_model(model = model, X_train = X_train, y_train = y_train, epochs = epochs,\n",
    "                    batch_size = batch_size,X_val = X_val, y_val = y_val)"
   ]
  },
  {
   "cell_type": "markdown",
   "metadata": {},
   "source": [
    "Predict the sentiment over the test dataset"
   ]
  },
  {
   "cell_type": "code",
   "execution_count": 38,
   "metadata": {},
   "outputs": [],
   "source": [
    "def get_prediction(model,data):\n",
    "    predictions = model.predict(data).argmax(axis=1)\n",
    "    return predictions\n",
    "\n",
    "# Maps model output to understandable format\n",
    "def map_prediction(prediction_array):\n",
    "    # Define the sentiment dictionary\n",
    "    sentiment_dictionary = {\n",
    "        0: \"bad\", \n",
    "        1: \"good\",\n",
    "        2: \"neutral\"\n",
    "    }\n",
    "    \n",
    "    return list(map(sentiment_dictionary.get, prediction_array))"
   ]
  },
  {
   "cell_type": "code",
   "execution_count": 39,
   "metadata": {},
   "outputs": [],
   "source": [
    "# Predict\n",
    "predictions = get_prediction(model, data = X_test)"
   ]
  },
  {
   "cell_type": "markdown",
   "metadata": {},
   "source": [
    "Performs all text transformations seen above to a given text. "
   ]
  },
  {
   "cell_type": "code",
   "execution_count": 40,
   "metadata": {},
   "outputs": [],
   "source": [
    "def do_text_transformations(data: pd.DataFrame,\n",
    "                            text_field: str,\n",
    "                            max_num_words: int,\n",
    "                            tokenizer_dict: dict,\n",
    "                            language: str = \"english\"):\n",
    "    # Clean the text\n",
    "    data['Text_Clean'] = data[text_field].apply(lambda x: clean_text(x))\n",
    "    \n",
    "    # Standardize the text\n",
    "    data['Standardized_Text'] = data.Text_Clean.apply(lambda x: standardize_text(x,language))\n",
    "    \n",
    "    # Map text to numerical values\n",
    "    _, pad_tokens, _ = map_text_into_numerical_values(dataset = data,\n",
    "                                                      text_field = text_field,\n",
    "                                                      max_num_words = max_num_words,\n",
    "                                                      tokenizer_dict = tokenizer_dict,\n",
    "                                                      print_info = False)\n",
    "    \n",
    "    # Assing the mapped text to dataset\n",
    "    data['Padded_Text'] = list(pad_tokens)\n",
    "    \n",
    "    return data"
   ]
  },
  {
   "cell_type": "code",
   "execution_count": 41,
   "metadata": {},
   "outputs": [],
   "source": [
    "data_report = do_text_transformations(data = data_report,\n",
    "                                      text_field = \"Text\",\n",
    "                                      tokenizer_dict = tokenizer_dict,\n",
    "                                      max_num_words = max_num_words)"
   ]
  },
  {
   "cell_type": "markdown",
   "metadata": {},
   "source": [
    "Predict the sentiment for a given text."
   ]
  },
  {
   "cell_type": "code",
   "execution_count": 42,
   "metadata": {},
   "outputs": [],
   "source": [
    "def predict_sentiment(model,\n",
    "                      data: pd.DataFrame,\n",
    "                      field_to_use: str):\n",
    "    \n",
    "    # Predict the sentiment for the given text\n",
    "    data['Sentiment_Prediction_Raw'] = get_prediction(model,np.stack(data[field_to_use].values))\n",
    "    \n",
    "    # Map the prediction\n",
    "    data['Sentiment_Prediction'] = map_prediction(data['Sentiment_Prediction_Raw'])\n",
    "    \n",
    "    return data"
   ]
  },
  {
   "cell_type": "code",
   "execution_count": 43,
   "metadata": {},
   "outputs": [],
   "source": [
    "data_report = predict_sentiment(model, data = data_report, field_to_use = \"Padded_Text\")"
   ]
  },
  {
   "cell_type": "markdown",
   "metadata": {},
   "source": [
    "The functions *get_top_n_most_common_words*, *get_top_n_mainwords*, *get_main_and_related_words* extract a dataframe that indicates the main and related words per sentiment, and indicates which customer has used that words. They will come in handy when creating the dashboard."
   ]
  },
  {
   "cell_type": "code",
   "execution_count": 44,
   "metadata": {},
   "outputs": [],
   "source": [
    "def get_top_n_most_common_words(nltk_text: nltk.Text,\n",
    "                                n: int):\n",
    "    \n",
    "    freq_distr = nltk.FreqDist(nltk_text.tokens)\n",
    "\n",
    "    # Extract the top n most common words from a given text \n",
    "    dictionary = {k:v for k,v in freq_distr.most_common(n)}\n",
    "\n",
    "    # Return\n",
    "    return dictionary\n",
    "\n",
    "def get_top_n_mainwords(data: pd.DataFrame,\n",
    "                        text_field: str,\n",
    "                        n: int):\n",
    "    # Initialize the dataframes to be returned\n",
    "    mainwords_count_df = pd.DataFrame(columns = [\"MainWord\", \"MainWordCount\"])\n",
    "    mainwords_conversation_df = pd.DataFrame(columns=[\"MainWord\", \"Id\"])\n",
    "    \n",
    "    # Get the top n mainwords counts and review ids where the mainwords are presented\n",
    "    top_n_mainwords = get_top_n_most_common_words(nltk_text = convert_to_nltk_text(data,text_field), n = n)\n",
    "    \n",
    "    \n",
    "    \n",
    "    mainwords_count_df = mainwords_count_df.append(pd.DataFrame({\"MainWord\": word, \"MainWordCount\": count} \n",
    "                                                                for word, count in top_n_mainwords.items()),\n",
    "                                                   ignore_index = True,sort = False)\n",
    "    for mainword in top_n_mainwords.keys():\n",
    "        mainword_ids = data[data[text_field].str.contains(mainword) == True]\n",
    "        mainwords_conversation_df = mainwords_conversation_df.append({\"MainWord\": mainword,\n",
    "                                                                      \"Id\": list(mainword_ids.index)},\n",
    "                                                                     ignore_index = True,sort = False).explode('Id')\n",
    "    \n",
    "    return mainwords_count_df, mainwords_conversation_df    \n",
    "\n",
    "def get_main_and_related_words_per_sentiment(data: pd.DataFrame,\n",
    "                                             n_mainwords: int,\n",
    "                                             n_relatedwords: int,\n",
    "                                             field_to_use: str,\n",
    "                                             sentiment_field: str):\n",
    "    # Initialize the dataframes to be returned\n",
    "    mainwords_count_df = pd.DataFrame(columns = [\"MainWord\", \"MainWordCount\", \"Sentiment\"])\n",
    "    mainwords_conversation_df = pd.DataFrame(columns=[\"MainWord\", \"Id\", \"Sentiment\"])\n",
    "    relatedword_per_mainword_df = pd.DataFrame(columns=[\"MainWord\", \"RelatedWord\", \"RelatedWordCount\", \"Sentiment\"])\n",
    "    \n",
    "    # Get the mainwords and its related words per sentiment group.\n",
    "    grouped = data.groupby(by=[sentiment_field], as_index = False)\n",
    "    for sentiment, grouped_data in grouped:\n",
    "        \n",
    "        mainwords_count_df_2, mainwords_conversation_df_2 = get_top_n_mainwords(data = grouped_data,text_field = field_to_use,\n",
    "                                                                                n = n_mainwords)\n",
    "        \n",
    "        for mainword in mainwords_count_df_2.MainWord.unique():\n",
    "            top_n_common_words = get_top_n_most_common_words(nltk_text = convert_to_nltk_text(grouped_data,field_to_use),\n",
    "                                                             n = n_relatedwords)\n",
    "\n",
    "            relatedword_per_mainword_df_2 = pd.DataFrame({\"MainWord\": mainword, \"RelatedWord\": word, \"RelatedWordCount\": count}\n",
    "                                                        for word, count in top_n_common_words.items())\n",
    "            \n",
    "            relatedword_per_mainword_df_2['Sentiment'] = sentiment\n",
    "            relatedword_per_mainword_df = relatedword_per_mainword_df.append(relatedword_per_mainword_df_2,\n",
    "                                                                             ignore_index = True,sort = False)\n",
    "\n",
    "        mainwords_count_df_2['Sentiment'] = sentiment\n",
    "        mainwords_conversation_df_2['Sentiment'] = sentiment\n",
    "        \n",
    "        mainwords_count_df = mainwords_count_df.append(mainwords_count_df_2,ignore_index = True,sort = False)\n",
    "        mainwords_conversation_df = mainwords_conversation_df.append(mainwords_conversation_df_2,ignore_index = True,sort = False)\n",
    "        \n",
    "        relatedword_per_mainword_df = relatedword_per_mainword_df[relatedword_per_mainword_df.MainWord != relatedword_per_mainword_df.RelatedWord]\n",
    "        \n",
    "    return mainwords_count_df, mainwords_conversation_df, relatedword_per_mainword_df"
   ]
  },
  {
   "cell_type": "code",
   "execution_count": 45,
   "metadata": {},
   "outputs": [],
   "source": [
    "mainwords_count_df, mainwords_conversation_df, relatedword_per_mainword_df = get_main_and_related_words_per_sentiment(data = data_report, \n",
    "                                                                                                                      n_mainwords = 10,\n",
    "                                                                                                                      n_relatedwords = 10,\n",
    "                                                                                                                      sentiment_field = \"Sentiment_Prediction\",\n",
    "                                                                                                                      field_to_use = \"Standardized_Text\")"
   ]
  },
  {
   "cell_type": "code",
   "execution_count": 46,
   "metadata": {},
   "outputs": [
    {
     "data": {
      "text/html": [
       "<div>\n",
       "<style scoped>\n",
       "    .dataframe tbody tr th:only-of-type {\n",
       "        vertical-align: middle;\n",
       "    }\n",
       "\n",
       "    .dataframe tbody tr th {\n",
       "        vertical-align: top;\n",
       "    }\n",
       "\n",
       "    .dataframe thead th {\n",
       "        text-align: right;\n",
       "    }\n",
       "</style>\n",
       "<table border=\"1\" class=\"dataframe\">\n",
       "  <thead>\n",
       "    <tr style=\"text-align: right;\">\n",
       "      <th></th>\n",
       "      <th>MainWord</th>\n",
       "      <th>MainWordCount</th>\n",
       "      <th>Sentiment</th>\n",
       "    </tr>\n",
       "  </thead>\n",
       "  <tbody>\n",
       "    <tr>\n",
       "      <th>0</th>\n",
       "      <td>not</td>\n",
       "      <td>316</td>\n",
       "      <td>bad</td>\n",
       "    </tr>\n",
       "    <tr>\n",
       "      <th>1</th>\n",
       "      <td>product</td>\n",
       "      <td>182</td>\n",
       "      <td>bad</td>\n",
       "    </tr>\n",
       "    <tr>\n",
       "      <th>2</th>\n",
       "      <td>qualiti</td>\n",
       "      <td>149</td>\n",
       "      <td>bad</td>\n",
       "    </tr>\n",
       "    <tr>\n",
       "      <th>3</th>\n",
       "      <td>sound</td>\n",
       "      <td>139</td>\n",
       "      <td>bad</td>\n",
       "    </tr>\n",
       "    <tr>\n",
       "      <th>4</th>\n",
       "      <td>work</td>\n",
       "      <td>105</td>\n",
       "      <td>bad</td>\n",
       "    </tr>\n",
       "    <tr>\n",
       "      <th>5</th>\n",
       "      <td>good</td>\n",
       "      <td>89</td>\n",
       "      <td>bad</td>\n",
       "    </tr>\n",
       "    <tr>\n",
       "      <th>6</th>\n",
       "      <td>use</td>\n",
       "      <td>76</td>\n",
       "      <td>bad</td>\n",
       "    </tr>\n",
       "    <tr>\n",
       "      <th>7</th>\n",
       "      <td>month</td>\n",
       "      <td>70</td>\n",
       "      <td>bad</td>\n",
       "    </tr>\n",
       "    <tr>\n",
       "      <th>8</th>\n",
       "      <td>ear</td>\n",
       "      <td>65</td>\n",
       "      <td>bad</td>\n",
       "    </tr>\n",
       "    <tr>\n",
       "      <th>9</th>\n",
       "      <td>one</td>\n",
       "      <td>65</td>\n",
       "      <td>bad</td>\n",
       "    </tr>\n",
       "    <tr>\n",
       "      <th>10</th>\n",
       "      <td>good</td>\n",
       "      <td>423</td>\n",
       "      <td>good</td>\n",
       "    </tr>\n",
       "    <tr>\n",
       "      <th>11</th>\n",
       "      <td>sound</td>\n",
       "      <td>326</td>\n",
       "      <td>good</td>\n",
       "    </tr>\n",
       "    <tr>\n",
       "      <th>12</th>\n",
       "      <td>qualiti</td>\n",
       "      <td>308</td>\n",
       "      <td>good</td>\n",
       "    </tr>\n",
       "    <tr>\n",
       "      <th>13</th>\n",
       "      <td>product</td>\n",
       "      <td>223</td>\n",
       "      <td>good</td>\n",
       "    </tr>\n",
       "    <tr>\n",
       "      <th>14</th>\n",
       "      <td>bass</td>\n",
       "      <td>132</td>\n",
       "      <td>good</td>\n",
       "    </tr>\n",
       "    <tr>\n",
       "      <th>15</th>\n",
       "      <td>earphon</td>\n",
       "      <td>117</td>\n",
       "      <td>good</td>\n",
       "    </tr>\n",
       "    <tr>\n",
       "      <th>16</th>\n",
       "      <td>best</td>\n",
       "      <td>110</td>\n",
       "      <td>good</td>\n",
       "    </tr>\n",
       "    <tr>\n",
       "      <th>17</th>\n",
       "      <td>use</td>\n",
       "      <td>95</td>\n",
       "      <td>good</td>\n",
       "    </tr>\n",
       "    <tr>\n",
       "      <th>18</th>\n",
       "      <td>batteri</td>\n",
       "      <td>86</td>\n",
       "      <td>good</td>\n",
       "    </tr>\n",
       "    <tr>\n",
       "      <th>19</th>\n",
       "      <td>nice</td>\n",
       "      <td>82</td>\n",
       "      <td>good</td>\n",
       "    </tr>\n",
       "    <tr>\n",
       "      <th>20</th>\n",
       "      <td>good</td>\n",
       "      <td>178</td>\n",
       "      <td>neutral</td>\n",
       "    </tr>\n",
       "    <tr>\n",
       "      <th>21</th>\n",
       "      <td>sound</td>\n",
       "      <td>160</td>\n",
       "      <td>neutral</td>\n",
       "    </tr>\n",
       "    <tr>\n",
       "      <th>22</th>\n",
       "      <td>not</td>\n",
       "      <td>137</td>\n",
       "      <td>neutral</td>\n",
       "    </tr>\n",
       "    <tr>\n",
       "      <th>23</th>\n",
       "      <td>qualiti</td>\n",
       "      <td>135</td>\n",
       "      <td>neutral</td>\n",
       "    </tr>\n",
       "    <tr>\n",
       "      <th>24</th>\n",
       "      <td>bass</td>\n",
       "      <td>87</td>\n",
       "      <td>neutral</td>\n",
       "    </tr>\n",
       "    <tr>\n",
       "      <th>25</th>\n",
       "      <td>product</td>\n",
       "      <td>75</td>\n",
       "      <td>neutral</td>\n",
       "    </tr>\n",
       "    <tr>\n",
       "      <th>26</th>\n",
       "      <td>earphon</td>\n",
       "      <td>66</td>\n",
       "      <td>neutral</td>\n",
       "    </tr>\n",
       "    <tr>\n",
       "      <th>27</th>\n",
       "      <td>use</td>\n",
       "      <td>63</td>\n",
       "      <td>neutral</td>\n",
       "    </tr>\n",
       "    <tr>\n",
       "      <th>28</th>\n",
       "      <td>batteri</td>\n",
       "      <td>55</td>\n",
       "      <td>neutral</td>\n",
       "    </tr>\n",
       "    <tr>\n",
       "      <th>29</th>\n",
       "      <td>one</td>\n",
       "      <td>50</td>\n",
       "      <td>neutral</td>\n",
       "    </tr>\n",
       "  </tbody>\n",
       "</table>\n",
       "</div>"
      ],
      "text/plain": [
       "   MainWord MainWordCount Sentiment\n",
       "0       not           316       bad\n",
       "1   product           182       bad\n",
       "2   qualiti           149       bad\n",
       "3     sound           139       bad\n",
       "4      work           105       bad\n",
       "5      good            89       bad\n",
       "6       use            76       bad\n",
       "7     month            70       bad\n",
       "8       ear            65       bad\n",
       "9       one            65       bad\n",
       "10     good           423      good\n",
       "11    sound           326      good\n",
       "12  qualiti           308      good\n",
       "13  product           223      good\n",
       "14     bass           132      good\n",
       "15  earphon           117      good\n",
       "16     best           110      good\n",
       "17      use            95      good\n",
       "18  batteri            86      good\n",
       "19     nice            82      good\n",
       "20     good           178   neutral\n",
       "21    sound           160   neutral\n",
       "22      not           137   neutral\n",
       "23  qualiti           135   neutral\n",
       "24     bass            87   neutral\n",
       "25  product            75   neutral\n",
       "26  earphon            66   neutral\n",
       "27      use            63   neutral\n",
       "28  batteri            55   neutral\n",
       "29      one            50   neutral"
      ]
     },
     "execution_count": 46,
     "metadata": {},
     "output_type": "execute_result"
    }
   ],
   "source": [
    "mainwords_count_df"
   ]
  },
  {
   "cell_type": "code",
   "execution_count": 47,
   "metadata": {},
   "outputs": [
    {
     "data": {
      "text/html": [
       "<div>\n",
       "<style scoped>\n",
       "    .dataframe tbody tr th:only-of-type {\n",
       "        vertical-align: middle;\n",
       "    }\n",
       "\n",
       "    .dataframe tbody tr th {\n",
       "        vertical-align: top;\n",
       "    }\n",
       "\n",
       "    .dataframe thead th {\n",
       "        text-align: right;\n",
       "    }\n",
       "</style>\n",
       "<table border=\"1\" class=\"dataframe\">\n",
       "  <thead>\n",
       "    <tr style=\"text-align: right;\">\n",
       "      <th></th>\n",
       "      <th>MainWord</th>\n",
       "      <th>Id</th>\n",
       "      <th>Sentiment</th>\n",
       "    </tr>\n",
       "  </thead>\n",
       "  <tbody>\n",
       "    <tr>\n",
       "      <th>0</th>\n",
       "      <td>not</td>\n",
       "      <td>9033</td>\n",
       "      <td>bad</td>\n",
       "    </tr>\n",
       "    <tr>\n",
       "      <th>1</th>\n",
       "      <td>not</td>\n",
       "      <td>10398</td>\n",
       "      <td>bad</td>\n",
       "    </tr>\n",
       "    <tr>\n",
       "      <th>2</th>\n",
       "      <td>not</td>\n",
       "      <td>13557</td>\n",
       "      <td>bad</td>\n",
       "    </tr>\n",
       "    <tr>\n",
       "      <th>3</th>\n",
       "      <td>not</td>\n",
       "      <td>10038</td>\n",
       "      <td>bad</td>\n",
       "    </tr>\n",
       "    <tr>\n",
       "      <th>4</th>\n",
       "      <td>not</td>\n",
       "      <td>6537</td>\n",
       "      <td>bad</td>\n",
       "    </tr>\n",
       "    <tr>\n",
       "      <th>...</th>\n",
       "      <td>...</td>\n",
       "      <td>...</td>\n",
       "      <td>...</td>\n",
       "    </tr>\n",
       "    <tr>\n",
       "      <th>3631</th>\n",
       "      <td>one</td>\n",
       "      <td>12798</td>\n",
       "      <td>neutral</td>\n",
       "    </tr>\n",
       "    <tr>\n",
       "      <th>3632</th>\n",
       "      <td>one</td>\n",
       "      <td>1145</td>\n",
       "      <td>neutral</td>\n",
       "    </tr>\n",
       "    <tr>\n",
       "      <th>3633</th>\n",
       "      <td>one</td>\n",
       "      <td>104</td>\n",
       "      <td>neutral</td>\n",
       "    </tr>\n",
       "    <tr>\n",
       "      <th>3634</th>\n",
       "      <td>one</td>\n",
       "      <td>4936</td>\n",
       "      <td>neutral</td>\n",
       "    </tr>\n",
       "    <tr>\n",
       "      <th>3635</th>\n",
       "      <td>one</td>\n",
       "      <td>8574</td>\n",
       "      <td>neutral</td>\n",
       "    </tr>\n",
       "  </tbody>\n",
       "</table>\n",
       "<p>3636 rows × 3 columns</p>\n",
       "</div>"
      ],
      "text/plain": [
       "     MainWord     Id Sentiment\n",
       "0         not   9033       bad\n",
       "1         not  10398       bad\n",
       "2         not  13557       bad\n",
       "3         not  10038       bad\n",
       "4         not   6537       bad\n",
       "...       ...    ...       ...\n",
       "3631      one  12798   neutral\n",
       "3632      one   1145   neutral\n",
       "3633      one    104   neutral\n",
       "3634      one   4936   neutral\n",
       "3635      one   8574   neutral\n",
       "\n",
       "[3636 rows x 3 columns]"
      ]
     },
     "execution_count": 47,
     "metadata": {},
     "output_type": "execute_result"
    }
   ],
   "source": [
    "mainwords_conversation_df"
   ]
  },
  {
   "cell_type": "code",
   "execution_count": 48,
   "metadata": {},
   "outputs": [
    {
     "data": {
      "text/html": [
       "<div>\n",
       "<style scoped>\n",
       "    .dataframe tbody tr th:only-of-type {\n",
       "        vertical-align: middle;\n",
       "    }\n",
       "\n",
       "    .dataframe tbody tr th {\n",
       "        vertical-align: top;\n",
       "    }\n",
       "\n",
       "    .dataframe thead th {\n",
       "        text-align: right;\n",
       "    }\n",
       "</style>\n",
       "<table border=\"1\" class=\"dataframe\">\n",
       "  <thead>\n",
       "    <tr style=\"text-align: right;\">\n",
       "      <th></th>\n",
       "      <th>MainWord</th>\n",
       "      <th>RelatedWord</th>\n",
       "      <th>RelatedWordCount</th>\n",
       "      <th>Sentiment</th>\n",
       "    </tr>\n",
       "  </thead>\n",
       "  <tbody>\n",
       "    <tr>\n",
       "      <th>0</th>\n",
       "      <td>not</td>\n",
       "      <td>product</td>\n",
       "      <td>182</td>\n",
       "      <td>bad</td>\n",
       "    </tr>\n",
       "    <tr>\n",
       "      <th>1</th>\n",
       "      <td>not</td>\n",
       "      <td>qualiti</td>\n",
       "      <td>149</td>\n",
       "      <td>bad</td>\n",
       "    </tr>\n",
       "    <tr>\n",
       "      <th>2</th>\n",
       "      <td>not</td>\n",
       "      <td>sound</td>\n",
       "      <td>139</td>\n",
       "      <td>bad</td>\n",
       "    </tr>\n",
       "    <tr>\n",
       "      <th>3</th>\n",
       "      <td>not</td>\n",
       "      <td>work</td>\n",
       "      <td>105</td>\n",
       "      <td>bad</td>\n",
       "    </tr>\n",
       "    <tr>\n",
       "      <th>4</th>\n",
       "      <td>not</td>\n",
       "      <td>good</td>\n",
       "      <td>89</td>\n",
       "      <td>bad</td>\n",
       "    </tr>\n",
       "    <tr>\n",
       "      <th>...</th>\n",
       "      <td>...</td>\n",
       "      <td>...</td>\n",
       "      <td>...</td>\n",
       "      <td>...</td>\n",
       "    </tr>\n",
       "    <tr>\n",
       "      <th>274</th>\n",
       "      <td>one</td>\n",
       "      <td>bass</td>\n",
       "      <td>87</td>\n",
       "      <td>neutral</td>\n",
       "    </tr>\n",
       "    <tr>\n",
       "      <th>275</th>\n",
       "      <td>one</td>\n",
       "      <td>product</td>\n",
       "      <td>75</td>\n",
       "      <td>neutral</td>\n",
       "    </tr>\n",
       "    <tr>\n",
       "      <th>276</th>\n",
       "      <td>one</td>\n",
       "      <td>earphon</td>\n",
       "      <td>66</td>\n",
       "      <td>neutral</td>\n",
       "    </tr>\n",
       "    <tr>\n",
       "      <th>277</th>\n",
       "      <td>one</td>\n",
       "      <td>use</td>\n",
       "      <td>63</td>\n",
       "      <td>neutral</td>\n",
       "    </tr>\n",
       "    <tr>\n",
       "      <th>278</th>\n",
       "      <td>one</td>\n",
       "      <td>batteri</td>\n",
       "      <td>55</td>\n",
       "      <td>neutral</td>\n",
       "    </tr>\n",
       "  </tbody>\n",
       "</table>\n",
       "<p>270 rows × 4 columns</p>\n",
       "</div>"
      ],
      "text/plain": [
       "    MainWord RelatedWord RelatedWordCount Sentiment\n",
       "0        not     product              182       bad\n",
       "1        not     qualiti              149       bad\n",
       "2        not       sound              139       bad\n",
       "3        not        work              105       bad\n",
       "4        not        good               89       bad\n",
       "..       ...         ...              ...       ...\n",
       "274      one        bass               87   neutral\n",
       "275      one     product               75   neutral\n",
       "276      one     earphon               66   neutral\n",
       "277      one         use               63   neutral\n",
       "278      one     batteri               55   neutral\n",
       "\n",
       "[270 rows x 4 columns]"
      ]
     },
     "execution_count": 48,
     "metadata": {},
     "output_type": "execute_result"
    }
   ],
   "source": [
    "relatedword_per_mainword_df"
   ]
  },
  {
   "cell_type": "code",
   "execution_count": 49,
   "metadata": {},
   "outputs": [
    {
     "data": {
      "text/html": [
       "<div>\n",
       "<style scoped>\n",
       "    .dataframe tbody tr th:only-of-type {\n",
       "        vertical-align: middle;\n",
       "    }\n",
       "\n",
       "    .dataframe tbody tr th {\n",
       "        vertical-align: top;\n",
       "    }\n",
       "\n",
       "    .dataframe thead th {\n",
       "        text-align: right;\n",
       "    }\n",
       "</style>\n",
       "<table border=\"1\" class=\"dataframe\">\n",
       "  <thead>\n",
       "    <tr style=\"text-align: right;\">\n",
       "      <th></th>\n",
       "      <th>Price</th>\n",
       "      <th>Product</th>\n",
       "      <th>id</th>\n",
       "      <th>Text</th>\n",
       "      <th>Star</th>\n",
       "      <th>Text_Clean</th>\n",
       "      <th>Standardized_Text</th>\n",
       "      <th>Padded_Text</th>\n",
       "      <th>Sentiment_Prediction_Raw</th>\n",
       "      <th>Sentiment_Prediction</th>\n",
       "    </tr>\n",
       "  </thead>\n",
       "  <tbody>\n",
       "    <tr>\n",
       "      <th>9033</th>\n",
       "      <td>6499</td>\n",
       "      <td>Sennheiser CX 6.0BT</td>\n",
       "      <td>8</td>\n",
       "      <td>4 stars for the treble aspect! Not for bass lo...</td>\n",
       "      <td>4</td>\n",
       "      <td>stars for the treble aspect not for bass lover...</td>\n",
       "      <td>star trebl aspect not bass lover headphon not ...</td>\n",
       "      <td>[0, 0, 0, 0, 0, 0, 0, 0, 0, 0, 0, 0, 0, 0, 0, ...</td>\n",
       "      <td>0</td>\n",
       "      <td>bad</td>\n",
       "    </tr>\n",
       "    <tr>\n",
       "      <th>11376</th>\n",
       "      <td>6499</td>\n",
       "      <td>Sennheiser CX 6.0BT</td>\n",
       "      <td>8</td>\n",
       "      <td>Good product sound is to goodReally enjoy good...</td>\n",
       "      <td>4</td>\n",
       "      <td>good product sound is to goodreally enjoy good...</td>\n",
       "      <td>good product sound goodreal enjoy good qualiti...</td>\n",
       "      <td>[0, 0, 0, 0, 0, 0, 0, 0, 0, 0, 0, 0, 0, 0, 0, ...</td>\n",
       "      <td>1</td>\n",
       "      <td>good</td>\n",
       "    </tr>\n",
       "    <tr>\n",
       "      <th>9603</th>\n",
       "      <td>6499</td>\n",
       "      <td>Sennheiser CX 6.0BT</td>\n",
       "      <td>8</td>\n",
       "      <td>The Product Is of utmost quality and the sound...</td>\n",
       "      <td>5</td>\n",
       "      <td>the product is of utmost quality and the sound...</td>\n",
       "      <td>product utmost qualiti sound absolut mesmeris ...</td>\n",
       "      <td>[0, 0, 0, 0, 0, 0, 0, 0, 0, 0, 0, 0, 0, 0, 0, ...</td>\n",
       "      <td>1</td>\n",
       "      <td>good</td>\n",
       "    </tr>\n",
       "    <tr>\n",
       "      <th>12697</th>\n",
       "      <td>2000</td>\n",
       "      <td>JBL T110BT</td>\n",
       "      <td>10</td>\n",
       "      <td>BATTERY LIFEThese JBL BT Earphones has bad bat...</td>\n",
       "      <td>4</td>\n",
       "      <td>battery lifethese jbl bt earphones has bad bat...</td>\n",
       "      <td>batteri lifethes jbl bt earphon bad batteri li...</td>\n",
       "      <td>[0, 0, 0, 0, 0, 0, 0, 0, 0, 0, 0, 0, 0, 0, 0, ...</td>\n",
       "      <td>2</td>\n",
       "      <td>neutral</td>\n",
       "    </tr>\n",
       "    <tr>\n",
       "      <th>8269</th>\n",
       "      <td>6499</td>\n",
       "      <td>Sennheiser CX 6.0BT</td>\n",
       "      <td>8</td>\n",
       "      <td>Pros: This is the best earphone, supported my ...</td>\n",
       "      <td>5</td>\n",
       "      <td>pros this is the best earphone supported my re...</td>\n",
       "      <td>pro best earphon support redmi note build qual...</td>\n",
       "      <td>[0, 0, 0, 0, 0, 0, 0, 0, 0, 0, 0, 0, 0, 0, 0, ...</td>\n",
       "      <td>1</td>\n",
       "      <td>good</td>\n",
       "    </tr>\n",
       "    <tr>\n",
       "      <th>...</th>\n",
       "      <td>...</td>\n",
       "      <td>...</td>\n",
       "      <td>...</td>\n",
       "      <td>...</td>\n",
       "      <td>...</td>\n",
       "      <td>...</td>\n",
       "      <td>...</td>\n",
       "      <td>...</td>\n",
       "      <td>...</td>\n",
       "      <td>...</td>\n",
       "    </tr>\n",
       "    <tr>\n",
       "      <th>4768</th>\n",
       "      <td>1399</td>\n",
       "      <td>boAt Rockerz 255</td>\n",
       "      <td>1</td>\n",
       "      <td>Best in this class\\n</td>\n",
       "      <td>5</td>\n",
       "      <td>best in this class</td>\n",
       "      <td>best class</td>\n",
       "      <td>[0, 0, 0, 0, 0, 0, 0, 0, 0, 0, 0, 0, 0, 0, 0, ...</td>\n",
       "      <td>1</td>\n",
       "      <td>good</td>\n",
       "    </tr>\n",
       "    <tr>\n",
       "      <th>7990</th>\n",
       "      <td>6499</td>\n",
       "      <td>Sennheiser CX 6.0BT</td>\n",
       "      <td>8</td>\n",
       "      <td>Awesome headsets at low budget... Sennheiser p...</td>\n",
       "      <td>5</td>\n",
       "      <td>awesome headsets at low budget sennheiser prov...</td>\n",
       "      <td>awesom headset low budget sennheis prove one w...</td>\n",
       "      <td>[0, 0, 0, 0, 0, 0, 0, 0, 0, 0, 0, 0, 0, 0, 0, ...</td>\n",
       "      <td>1</td>\n",
       "      <td>good</td>\n",
       "    </tr>\n",
       "    <tr>\n",
       "      <th>7509</th>\n",
       "      <td>6499</td>\n",
       "      <td>Sennheiser CX 6.0BT</td>\n",
       "      <td>8</td>\n",
       "      <td>Man..I loved these earpiece..This is a must ha...</td>\n",
       "      <td>5</td>\n",
       "      <td>man i loved these earpiece this is a must have...</td>\n",
       "      <td>man love earpiec must thing bass music qualiti...</td>\n",
       "      <td>[0, 0, 0, 0, 0, 0, 0, 0, 0, 0, 0, 0, 0, 0, 0, ...</td>\n",
       "      <td>1</td>\n",
       "      <td>good</td>\n",
       "    </tr>\n",
       "    <tr>\n",
       "      <th>14253</th>\n",
       "      <td>2000</td>\n",
       "      <td>JBL T110BT</td>\n",
       "      <td>10</td>\n",
       "      <td>Durability\\n</td>\n",
       "      <td>5</td>\n",
       "      <td>durability</td>\n",
       "      <td>durabl</td>\n",
       "      <td>[0, 0, 0, 0, 0, 0, 0, 0, 0, 0, 0, 0, 0, 0, 0, ...</td>\n",
       "      <td>1</td>\n",
       "      <td>good</td>\n",
       "    </tr>\n",
       "    <tr>\n",
       "      <th>10961</th>\n",
       "      <td>6499</td>\n",
       "      <td>Sennheiser CX 6.0BT</td>\n",
       "      <td>8</td>\n",
       "      <td>Didn't last long\\n</td>\n",
       "      <td>3</td>\n",
       "      <td>didnt last long</td>\n",
       "      <td>didnt last long</td>\n",
       "      <td>[0, 0, 0, 0, 0, 0, 0, 0, 0, 0, 0, 0, 0, 0, 0, ...</td>\n",
       "      <td>2</td>\n",
       "      <td>neutral</td>\n",
       "    </tr>\n",
       "  </tbody>\n",
       "</table>\n",
       "<p>1434 rows × 10 columns</p>\n",
       "</div>"
      ],
      "text/plain": [
       "       Price              Product  id  \\\n",
       "9033    6499  Sennheiser CX 6.0BT   8   \n",
       "11376   6499  Sennheiser CX 6.0BT   8   \n",
       "9603    6499  Sennheiser CX 6.0BT   8   \n",
       "12697   2000           JBL T110BT  10   \n",
       "8269    6499  Sennheiser CX 6.0BT   8   \n",
       "...      ...                  ...  ..   \n",
       "4768    1399     boAt Rockerz 255   1   \n",
       "7990    6499  Sennheiser CX 6.0BT   8   \n",
       "7509    6499  Sennheiser CX 6.0BT   8   \n",
       "14253   2000           JBL T110BT  10   \n",
       "10961   6499  Sennheiser CX 6.0BT   8   \n",
       "\n",
       "                                                    Text  Star  \\\n",
       "9033   4 stars for the treble aspect! Not for bass lo...     4   \n",
       "11376  Good product sound is to goodReally enjoy good...     4   \n",
       "9603   The Product Is of utmost quality and the sound...     5   \n",
       "12697  BATTERY LIFEThese JBL BT Earphones has bad bat...     4   \n",
       "8269   Pros: This is the best earphone, supported my ...     5   \n",
       "...                                                  ...   ...   \n",
       "4768                                Best in this class\\n     5   \n",
       "7990   Awesome headsets at low budget... Sennheiser p...     5   \n",
       "7509   Man..I loved these earpiece..This is a must ha...     5   \n",
       "14253                                       Durability\\n     5   \n",
       "10961                                 Didn't last long\\n     3   \n",
       "\n",
       "                                              Text_Clean  \\\n",
       "9033   stars for the treble aspect not for bass lover...   \n",
       "11376  good product sound is to goodreally enjoy good...   \n",
       "9603   the product is of utmost quality and the sound...   \n",
       "12697  battery lifethese jbl bt earphones has bad bat...   \n",
       "8269   pros this is the best earphone supported my re...   \n",
       "...                                                  ...   \n",
       "4768                                  best in this class   \n",
       "7990   awesome headsets at low budget sennheiser prov...   \n",
       "7509   man i loved these earpiece this is a must have...   \n",
       "14253                                         durability   \n",
       "10961                                    didnt last long   \n",
       "\n",
       "                                       Standardized_Text  \\\n",
       "9033   star trebl aspect not bass lover headphon not ...   \n",
       "11376  good product sound goodreal enjoy good qualiti...   \n",
       "9603   product utmost qualiti sound absolut mesmeris ...   \n",
       "12697  batteri lifethes jbl bt earphon bad batteri li...   \n",
       "8269   pro best earphon support redmi note build qual...   \n",
       "...                                                  ...   \n",
       "4768                                          best class   \n",
       "7990   awesom headset low budget sennheis prove one w...   \n",
       "7509   man love earpiec must thing bass music qualiti...   \n",
       "14253                                             durabl   \n",
       "10961                                    didnt last long   \n",
       "\n",
       "                                             Padded_Text  \\\n",
       "9033   [0, 0, 0, 0, 0, 0, 0, 0, 0, 0, 0, 0, 0, 0, 0, ...   \n",
       "11376  [0, 0, 0, 0, 0, 0, 0, 0, 0, 0, 0, 0, 0, 0, 0, ...   \n",
       "9603   [0, 0, 0, 0, 0, 0, 0, 0, 0, 0, 0, 0, 0, 0, 0, ...   \n",
       "12697  [0, 0, 0, 0, 0, 0, 0, 0, 0, 0, 0, 0, 0, 0, 0, ...   \n",
       "8269   [0, 0, 0, 0, 0, 0, 0, 0, 0, 0, 0, 0, 0, 0, 0, ...   \n",
       "...                                                  ...   \n",
       "4768   [0, 0, 0, 0, 0, 0, 0, 0, 0, 0, 0, 0, 0, 0, 0, ...   \n",
       "7990   [0, 0, 0, 0, 0, 0, 0, 0, 0, 0, 0, 0, 0, 0, 0, ...   \n",
       "7509   [0, 0, 0, 0, 0, 0, 0, 0, 0, 0, 0, 0, 0, 0, 0, ...   \n",
       "14253  [0, 0, 0, 0, 0, 0, 0, 0, 0, 0, 0, 0, 0, 0, 0, ...   \n",
       "10961  [0, 0, 0, 0, 0, 0, 0, 0, 0, 0, 0, 0, 0, 0, 0, ...   \n",
       "\n",
       "       Sentiment_Prediction_Raw Sentiment_Prediction  \n",
       "9033                          0                  bad  \n",
       "11376                         1                 good  \n",
       "9603                          1                 good  \n",
       "12697                         2              neutral  \n",
       "8269                          1                 good  \n",
       "...                         ...                  ...  \n",
       "4768                          1                 good  \n",
       "7990                          1                 good  \n",
       "7509                          1                 good  \n",
       "14253                         1                 good  \n",
       "10961                         2              neutral  \n",
       "\n",
       "[1434 rows x 10 columns]"
      ]
     },
     "execution_count": 49,
     "metadata": {},
     "output_type": "execute_result"
    }
   ],
   "source": [
    "data_report.drop(columns=['MRP','ProductFullName','ReviewURL','ReviewTitle'],inplace=True)\n",
    "data_report"
   ]
  },
  {
   "cell_type": "markdown",
   "metadata": {},
   "source": [
    "Saving *data_report*, *mainwords_count_df*, *mainwords_conversation_df*, *relatedword_per_mainword_df* to build up a dashboard with the idea of helping Customer Service to quickly understand what customers think about their product, identify those unsatisfied customers and see the main and related words."
   ]
  },
  {
   "cell_type": "code",
   "execution_count": 50,
   "metadata": {},
   "outputs": [],
   "source": [
    "data_report.to_csv('./Datasets/data_report.csv')\n",
    "mainwords_count_df.to_csv('./Datasets/mainwords_count_df.csv')\n",
    "mainwords_conversation_df.to_csv('./Datasets/mainwords_conversation_df.csv')\n",
    "relatedword_per_mainword_df.to_csv('./Datasets/relatedword_per_mainword_df.csv')"
   ]
  },
  {
   "cell_type": "markdown",
   "metadata": {},
   "source": [
    "## Dashboard"
   ]
  },
  {
   "cell_type": "markdown",
   "metadata": {},
   "source": [
    "The dashboard can be found in Tableau Public using this [link](https://public.tableau.com/views/TextAnalyticsonCustomersReviews/ProductReviewsAnalysis?:language=es&:display_count=y&publish=yes&:origin=viz_share_link)."
   ]
  }
 ],
 "metadata": {
  "kernelspec": {
   "display_name": "Python 3",
   "language": "python",
   "name": "python3"
  },
  "language_info": {
   "codemirror_mode": {
    "name": "ipython",
    "version": 3
   },
   "file_extension": ".py",
   "mimetype": "text/x-python",
   "name": "python",
   "nbconvert_exporter": "python",
   "pygments_lexer": "ipython3",
   "version": "3.8.5"
  }
 },
 "nbformat": 4,
 "nbformat_minor": 4
}
